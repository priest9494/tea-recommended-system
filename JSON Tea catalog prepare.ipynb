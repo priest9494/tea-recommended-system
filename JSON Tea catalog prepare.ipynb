{
 "cells": [
  {
   "cell_type": "markdown",
   "metadata": {},
   "source": [
    "# JSON Дерева классификации"
   ]
  },
  {
   "cell_type": "code",
   "execution_count": 1,
   "metadata": {},
   "outputs": [],
   "source": [
    "import json\n",
    "from anytree import Node, RenderTree, PreOrderIter\n",
    "from anytree.exporter import UniqueDotExporter\n",
    "from anytree.exporter import JsonExporter"
   ]
  },
  {
   "cell_type": "code",
   "execution_count": 2,
   "metadata": {},
   "outputs": [],
   "source": [
    "class Tea:\n",
    "    name = \"tea\"\n",
    "    price = 0\n",
    "    weight = 0\n",
    "    leafSize = 0\n",
    "    arom = 0\n",
    "    ferment = \"black\"\n",
    "    leafForm = \"pressed\"\n",
    "    \n",
    "    def __init__(self, n, p, w, ls, a, f, lf):\n",
    "        self.name = n\n",
    "        self.price = p\n",
    "        self.weight = w\n",
    "        self.leafSize = ls\n",
    "        self.arom = a\n",
    "        self.ferment = f\n",
    "        self.leafForm = lf\n",
    "        \n",
    "    def getLine(self):\n",
    "        line = \"\"\n",
    "        line += \"name: \" + str(self.name) + \"\\n\"\n",
    "        line += \"price: \" + str(self.price) + \"\\n\"\n",
    "        line += \"weight: \" + str(self.weight) + \"\\n\"\n",
    "        line += \"leafSize: \" + str(self.leafSize) + \"\\n\"\n",
    "        line += \"arom: \" + str(self.arom) + \"\\n\"\n",
    "        line += \"ferment: \" + self.ferment + \"\\n\"\n",
    "        line += \"leafForm: \" + self.leafForm\n",
    "        return line"
   ]
  },
  {
   "cell_type": "code",
   "execution_count": 3,
   "metadata": {},
   "outputs": [],
   "source": [
    "root = Node(name=\"Чай\")"
   ]
  },
  {
   "cell_type": "code",
   "execution_count": 4,
   "metadata": {},
   "outputs": [],
   "source": [
    "puer = Node(parent=root, name=\"Пуэр\")\n",
    "\n",
    "pbl1 = Node(parent=puer, name=\"Фэнцин\", props = vars(Tea(\"Фэнцин\", 1400, 100, 3, 0, \"puer\", \"loose\")))\n",
    "pbl2 = Node(parent=puer, name=\"Мэнку\", props = vars(Tea(\"Мэнку\", 550, 30, 3, 0, \"puer\", \"loose\")))\n",
    "pbp1 = Node(parent=puer, name=\"Дали\", props = vars(Tea(\"Дали\", 690, 100, 3, 0, \"puer\", \"pressed\")))\n",
    "pbp1 = Node(parent=puer, name=\"Тенчун\", props = vars(Tea(\"Тенчун\", 1900, 120, 3, 0, \"puer\", \"pressed\")))\n",
    "psl1 =  Node(parent=puer, name=\"Булан\", props = vars(Tea(\"Булан\", 900, 30, 2, 0, \"puer\", \"loose\")))\n",
    "psl2 =  Node(parent=puer, name=\"ГуанНань\", props = vars(Tea(\"ГуанНань\", 1000, 90, 2, 0, \"puer\", \"loose\")))\n",
    "psp1 =  Node(parent=puer, name=\"ДаЛи\", props = vars(Tea(\"ДаЛи\", 550, 80, 2, 0, \"puer\", \"pressed\")))\n",
    "psp1 =  Node(parent=puer, name=\"ГуанСи\", props = vars(Tea(\"ГуанСи\", 500, 30, 2, 0, \"puer\", \"pressed\")))"
   ]
  },
  {
   "cell_type": "code",
   "execution_count": 5,
   "metadata": {},
   "outputs": [],
   "source": [
    "oolong = Node(parent=root, name=\"Улун\")\n",
    "\n",
    "oss1 = Node(parent=oolong, name=\"Фэн Хуан Дань Цун\", props = vars(Tea(\"Фэн Хуан Дань Цун\", 1450, 100, 3, 0, \"oolong\", \"twisted\")))\n",
    "oss2 = Node(parent=oolong, name=\"БаоДжун\", props = vars(Tea(\"БаоДжун\", 600, 100, 3, 0, \"oolong\", \"twisted\")))\n",
    "ooss1 = Node(parent=oolong, name=\"ТеГуань\", props = vars(Tea(\"ТеГуань\", 800, 30, 3, 1, \"oolong\", \"twisted\")))\n",
    "ooss2 = Node(parent=oolong, name=\"Алишань\", props = vars(Tea(\"Алишань\", 950, 70, 3, 0, \"oolong\", \"twisted\")))\n",
    "oofs1 = Node(parent=oolong, name=\"Да Хун Пао\", props = vars(Tea(\"Да Хун Пао\", 1900, 120, 3, 0, \"oolong\", \"twisted\")))\n",
    "oofs2 = Node(parent=oolong, name=\"БайХао\", props = vars(Tea(\"БайХао\", 880, 120, 3, 1, \"oolong\", \"twisted\")))\n",
    "oofn1 = Node(parent=oolong, name=\"Пэнфен\", props = vars(Tea(\"Пэнфен\", 800, 50, 3, 0, \"oolong\", \"twisted\")))\n",
    "oofn1 = Node(parent=oolong, name=\"Дун Дин\", props = vars(Tea(\"Дун Дин\", 400, 30, 3, 1, \"oolong\", \"twisted\")))"
   ]
  },
  {
   "cell_type": "code",
   "execution_count": 6,
   "metadata": {},
   "outputs": [],
   "source": [
    "black = Node(parent=root, name=\"Черный\")\n",
    "\n",
    "bltl1  = Node(parent=black, name=\"Дянь Хун\", props = vars(Tea(\"Дянь Хун\", 1200, 100, 3, 0, \"black\", \"twisted\")))\n",
    "bltl1  = Node(parent=black, name=\"Таньян Гунфу\", props = vars(Tea(\"Таньян Гунфу\", 850, 100, 3, 0, \"black\", \"twisted\")))\n",
    "bltb1 = Node(parent=black, name=\"Фэн Хуан Дань Цун\", props = vars(Tea(\"Фэн Хуан Дань Цун\", 1600, 120, 2, 0, \"black\", \"loose\")))\n",
    "bltb2 = Node(parent=black, name=\"Цзинь Цзюнь Мэй\", props = vars(Tea(\"Цзинь Цзюнь Мэй\", 400, 60, 2, 0, \"black\", \"loose\")))\n",
    "blts1 = Node(parent=black, name=\"Ци хун\", props = vars(Tea(\"Ци хун\", 300, 70, 1, 0, \"black\", \"loose\")))\n",
    "blts2 = Node(parent=black, name=\"Чжэнь Шань Сяо Чжун\", props = vars(Tea(\"Чжэнь Шань Сяо Чжун\", 1850, 130, 1, 0, \"black\", \"loose\")))\n",
    "blpb1 = Node(parent=black, name=\"Дянь Хун Сун Чжень\", props = vars(Tea(\"Дянь Хун Сун Чжень\", 700, 30, 2, 0, \"black\", \"pressed\")))\n",
    "blpb2 = Node(parent=black, name=\"Уишань Хун Ча\", props = vars(Tea(\"Уишань Хун Ча\", 300, 30, 2, 0, \"black\", \"pressed\")))\n",
    "blpt1  = Node(parent=black, name=\"Чжанпин Хун Ча\", props = vars(Tea(\"Чжанпин Хун Ча\", 400, 50, 2, 1, \"black\", \"pressed\")))\n",
    "blpt2 = Node(parent=black, name=\"Моли Хуа Хун Ча\", props = vars(Tea(\"Моли Хуа Хун Ча\", 700, 100, 2, 0, \"black\", \"pressed\")))\n",
    "ble1 = Node(parent=black, name=\"Тесс\", props = vars(Tea(\"Тесс\", 100, 100, 1, 1, \"black\", \"loose\")))\n",
    "ble2 = Node(parent=black, name=\"Ява\", props = vars(Tea(\"Ява\", 100, 100, 1, 1, \"black\", \"loose\")))"
   ]
  },
  {
   "cell_type": "code",
   "execution_count": 7,
   "metadata": {},
   "outputs": [],
   "source": [
    "green = Node(parent=root, name=\"Зеленый\")\n",
    "\n",
    "gbltj1 = Node(parent=green, name=\"Жичжао Люй Ча\", props = vars(Tea(\"Жичжао Люй Ча\", 1250, 70, 2, 1, \"green\", \"loose\")))\n",
    "gbltj2 = Node(parent=green, name=\"Мэндин Шань Мао Фэн\", props = vars(Tea(\"Мэндин Шань Мао Фэн\", 450, 50, 1, 1, \"green\", \"loose\")))\n",
    "gbldjl1 = Node(parent=green, name=\"Люань Гуапянь\", props = vars(Tea(\"Люань Гуапянь\", 300, 30, 2, 1, \"green\", \"loose\")))\n",
    "gbldjl2 = Node(parent=green, name=\"Лун Цзин\", props = vars(Tea(\"Лун Цзин\", 1350, 100, 1, 1, \"green\", \"loose\")))\n",
    "gblna1 = Node(parent=green, name=\"Да Фо\", props = vars(Tea(\"Да Фо\", 600, 80, 1, 0, \"green\", \"loose\")))\n",
    "gblna2 = Node(parent=green, name=\"Синьян Мао Цзян\", props = vars(Tea(\"Синьян Мао Цзян\", 400, 55, 2, 0, \"green\", \"loose\")))\n",
    "gbttj1 = Node(parent=green, name=\"Лю Хуа\", props = vars(Tea(\"Лю Хуа\", 1600, 110, 2, 1, \"green\", \"twisted\")))\n",
    "gbttj2 = Node(parent=green, name=\"Хуаншань Мао Фэн\", props = vars(Tea(\"Хуаншань Мао Фэн\", 400, 75, 2, 1, \"green\", \"twisted\")))\n",
    "gbtnj1 = Node(parent=green, name=\"Тайпин\", props = vars(Tea(\"Тайпин\", 600, 100, 2, 1, \"green\", \"twisted\")))\n",
    "gbtnj2 = Node(parent=green, name=\"Хоу Куй\", props = vars(Tea(\"Хоу Куй\", 300, 15, 2, 1, \"green\", \"twisted\")))\n",
    "\n",
    "gbtna1 = Node(parent=green, name=\"Лун Чжу\", props = vars(Tea(\"Лун Чжу\", 500, 120, 2, 0, \"green\", \"twisted\")))\n",
    "gbtna2 = Node(parent=green, name=\"Дунтин\", props = vars(Tea(\"Дунтин\", 330, 60, 2, 0, \"green\", \"twisted\")))\n",
    "gbptj1 = Node(parent=green, name=\"Билочунь\", props = vars(Tea(\"Билочунь\", 950, 70, 2, 1, \"green\", \"pressed\")))\n",
    "gbptj2 = Node(parent=green, name=\"Гэммайтя\", props = vars(Tea(\"Гэммайтя\", 200, 10, 2, 1, \"green\", \"pressed\")))\n",
    "gbpdj1 = Node(parent=green, name=\"Аньцзи\", props = vars(Tea(\"Аньцзи\", 400, 40, 2, 1, \"green\", \"pressed\")))\n",
    "gbpdj2 = Node(parent=green, name=\"Бай Ча\", props = vars(Tea(\"Бай Ча\", 1100, 75, 2, 1, \"green\", \"pressed\")))\n",
    "gbpna1 = Node(parent=green, name=\"Моли Йнь\", props = vars(Tea(\"Моли Йнь\", 1200, 50, 2, 0, \"green\", \"pressed\")))\n",
    "gbpna2 = Node(parent=green, name=\"Йинь Чжень\", props = vars(Tea(\"Йинь Чжень\", 600, 20, 2, 0, \"green\", \"pressed\")))\n",
    "\n",
    "gblltj1 = Node(parent=green, name=\"Мао Фэн Люй Ча\", props = vars(Tea(\"Мао Фэн Люй Ча\", 500, 50, 2, 1, \"green\", \"loose\")))\n",
    "gblltj2 = Node(parent=green, name=\"Лун Цзин из деревни Лонг Ву\", props = vars(Tea(\"Лун Цзин из деревни Лонг Ву\", 400, 30, 1, 1, \"green\", \"loose\")))\n",
    "gblldj1 = Node(parent=green, name=\"Жасмин\", props = vars(Tea(\"Жасмин\", 700, 100, 1, 1, \"green\", \"loose\")))\n",
    "gblldj2 = Node(parent=green, name=\"Моли Хуа Хун Ча «Жасминовый чай»\", props = vars(Tea(\"Моли Хуа Хун Ча «Жасминовый чай»\", 600, 120, 1, 1, \"green\", \"loose\")))\n",
    "gbllna1 = Node(parent=green, name=\"Лун Цзин «Колодец Дракона» с озера Сиху\", props = vars(Tea(\"Лун Цзин «Колодец Дракона» с озера Сиху\", 1450, 50, 2, 0, \"green\", \"loose\")))\n",
    "gbllna2 = Node(parent=green, name=\"Зелёный чай с горы Лаошань\", props = vars(Tea(\"Зелёный чай с горы Лаошань\", 750, 50, 1, 0, \"green\", \"loose\")))\n",
    "gblttj1 = Node(parent=green, name=\"Би Ло Чунь\", props = vars(Tea(\"Би Ло Чунь\", 250, 50, 2, 1, \"green\", \"twisted\")))\n",
    "gblttj2 = Node(parent=green, name=\"Лунцзин Колодец дракона\", props =vars(Tea(\"Лунцзин Колодец дракона\", 250, 50, 2, 1, \"green\", \"twisted\")))\n",
    "gbltdj1 = Node(parent=green, name=\"Бай Мао Хоу\", props = vars(Tea(\"Бай Мао Хоу\", 700, 50, 2, 1, \"green\", \"twisted\")))\n",
    "gbltdj2 = Node(parent=green, name=\"Сян Чжень\", props = vars(Tea(\"Сян Чжень\", 1400, 60, 2, 1, \"green\", \"twisted\")))\n",
    "gbltna1 = Node(parent=green, name=\"Шу Сян Люй\", props = vars(Tea(\"Шу Сян Люй\", 700, 50, 2, 0, \"green\", \"twisted\")))\n",
    "gbltna2 = Node(parent=green, name=\"Тай Пин Хоу Куй\", props = vars(Tea(\"Тай Пин Хоу Куй\", 1400, 100, 2, 0, \"green\", \"twisted\")))\n",
    "gblptj1 = Node(parent=green, name=\"Люй Лун Чжу\", props = vars(Tea(\"Люй Лун Чжу\", 1500, 100, 2, 1, \"green\", \"pressed\")))\n",
    "gblptj2 = Node(parent=green, name=\"Йин Сы\", props = vars(Tea(\"Йин Сы\", 500, 30, 2, 1, \"green\", \"pressed\")))\n",
    "gblpdj1 = Node(parent=green, name=\"Шен Мэнку Мао Ча\", props = vars(Tea(\"Шен Мэнку Мао Ча\", 1200, 100, 2, 1, \"green\", \"pressed\")))\n",
    "gblpdj2 = Node(parent=green, name=\"Ганпаудер Порох\", props = vars(Tea(\"Ганпаудер Порох\", 100, 100, 1, 1, \"green\", \"pressed\")))\n",
    "gblpna1 = Node(parent=green, name=\"Завтрак императора\", props = vars(Tea(\"Завтрак императора\", 120, 100, 1, 0, \"green\", \"pressed\")))\n",
    "gblpna2 = Node(parent=green, name=\"Матча\", props = vars(Tea(\"Матча\", 1500, 80, 1, 0, \"green\", \"pressed\")))"
   ]
  },
  {
   "cell_type": "code",
   "execution_count": 8,
   "metadata": {},
   "outputs": [
    {
     "name": "stdout",
     "output_type": "stream",
     "text": [
      "{\"name\": \"Чай\", \"children\": [{\"name\": \"Пуэр\", \"children\": [{\"props\": {\"name\": \"Фэнцин\", \"price\": 1400, \"weight\": 100, \"leafSize\": 3, \"arom\": 0, \"ferment\": \"puer\", \"leafForm\": \"loose\"}, \"name\": \"Фэнцин\"}, {\"props\": {\"name\": \"Мэнку\", \"price\": 550, \"weight\": 30, \"leafSize\": 3, \"arom\": 0, \"ferment\": \"puer\", \"leafForm\": \"loose\"}, \"name\": \"Мэнку\"}, {\"props\": {\"name\": \"Дали\", \"price\": 690, \"weight\": 100, \"leafSize\": 3, \"arom\": 0, \"ferment\": \"puer\", \"leafForm\": \"pressed\"}, \"name\": \"Дали\"}, {\"props\": {\"name\": \"Тенчун\", \"price\": 1900, \"weight\": 120, \"leafSize\": 3, \"arom\": 0, \"ferment\": \"puer\", \"leafForm\": \"pressed\"}, \"name\": \"Тенчун\"}, {\"props\": {\"name\": \"Булан\", \"price\": 900, \"weight\": 30, \"leafSize\": 2, \"arom\": 0, \"ferment\": \"puer\", \"leafForm\": \"loose\"}, \"name\": \"Булан\"}, {\"props\": {\"name\": \"ГуанНань\", \"price\": 1000, \"weight\": 90, \"leafSize\": 2, \"arom\": 0, \"ferment\": \"puer\", \"leafForm\": \"loose\"}, \"name\": \"ГуанНань\"}, {\"props\": {\"name\": \"ДаЛи\", \"price\": 550, \"weight\": 80, \"leafSize\": 2, \"arom\": 0, \"ferment\": \"puer\", \"leafForm\": \"pressed\"}, \"name\": \"ДаЛи\"}, {\"props\": {\"name\": \"ГуанСи\", \"price\": 500, \"weight\": 30, \"leafSize\": 2, \"arom\": 0, \"ferment\": \"puer\", \"leafForm\": \"pressed\"}, \"name\": \"ГуанСи\"}]}, {\"name\": \"Улун\", \"children\": [{\"props\": {\"name\": \"Фэн Хуан Дань Цун\", \"price\": 1450, \"weight\": 100, \"leafSize\": 3, \"arom\": 0, \"ferment\": \"oolong\", \"leafForm\": \"twisted\"}, \"name\": \"Фэн Хуан Дань Цун\"}, {\"props\": {\"name\": \"БаоДжун\", \"price\": 600, \"weight\": 100, \"leafSize\": 3, \"arom\": 0, \"ferment\": \"oolong\", \"leafForm\": \"twisted\"}, \"name\": \"БаоДжун\"}, {\"props\": {\"name\": \"ТеГуань\", \"price\": 800, \"weight\": 30, \"leafSize\": 3, \"arom\": 1, \"ferment\": \"oolong\", \"leafForm\": \"twisted\"}, \"name\": \"ТеГуань\"}, {\"props\": {\"name\": \"Алишань\", \"price\": 950, \"weight\": 70, \"leafSize\": 3, \"arom\": 0, \"ferment\": \"oolong\", \"leafForm\": \"twisted\"}, \"name\": \"Алишань\"}, {\"props\": {\"name\": \"Да Хун Пао\", \"price\": 1900, \"weight\": 120, \"leafSize\": 3, \"arom\": 0, \"ferment\": \"oolong\", \"leafForm\": \"twisted\"}, \"name\": \"Да Хун Пао\"}, {\"props\": {\"name\": \"БайХао\", \"price\": 880, \"weight\": 120, \"leafSize\": 3, \"arom\": 1, \"ferment\": \"oolong\", \"leafForm\": \"twisted\"}, \"name\": \"БайХао\"}, {\"props\": {\"name\": \"Пэнфен\", \"price\": 800, \"weight\": 50, \"leafSize\": 3, \"arom\": 0, \"ferment\": \"oolong\", \"leafForm\": \"twisted\"}, \"name\": \"Пэнфен\"}, {\"props\": {\"name\": \"Дун Дин\", \"price\": 400, \"weight\": 30, \"leafSize\": 3, \"arom\": 1, \"ferment\": \"oolong\", \"leafForm\": \"twisted\"}, \"name\": \"Дун Дин\"}]}, {\"name\": \"Черный\", \"children\": [{\"props\": {\"name\": \"Дянь Хун\", \"price\": 1200, \"weight\": 100, \"leafSize\": 3, \"arom\": 0, \"ferment\": \"black\", \"leafForm\": \"twisted\"}, \"name\": \"Дянь Хун\"}, {\"props\": {\"name\": \"Таньян Гунфу\", \"price\": 850, \"weight\": 100, \"leafSize\": 3, \"arom\": 0, \"ferment\": \"black\", \"leafForm\": \"twisted\"}, \"name\": \"Таньян Гунфу\"}, {\"props\": {\"name\": \"Фэн Хуан Дань Цун\", \"price\": 1600, \"weight\": 120, \"leafSize\": 2, \"arom\": 0, \"ferment\": \"black\", \"leafForm\": \"loose\"}, \"name\": \"Фэн Хуан Дань Цун\"}, {\"props\": {\"name\": \"Цзинь Цзюнь Мэй\", \"price\": 400, \"weight\": 60, \"leafSize\": 2, \"arom\": 0, \"ferment\": \"black\", \"leafForm\": \"loose\"}, \"name\": \"Цзинь Цзюнь Мэй\"}, {\"props\": {\"name\": \"Ци хун\", \"price\": 300, \"weight\": 70, \"leafSize\": 1, \"arom\": 0, \"ferment\": \"black\", \"leafForm\": \"loose\"}, \"name\": \"Ци хун\"}, {\"props\": {\"name\": \"Чжэнь Шань Сяо Чжун\", \"price\": 1850, \"weight\": 130, \"leafSize\": 1, \"arom\": 0, \"ferment\": \"black\", \"leafForm\": \"loose\"}, \"name\": \"Чжэнь Шань Сяо Чжун\"}, {\"props\": {\"name\": \"Дянь Хун Сун Чжень\", \"price\": 700, \"weight\": 30, \"leafSize\": 2, \"arom\": 0, \"ferment\": \"black\", \"leafForm\": \"pressed\"}, \"name\": \"Дянь Хун Сун Чжень\"}, {\"props\": {\"name\": \"Уишань Хун Ча\", \"price\": 300, \"weight\": 30, \"leafSize\": 2, \"arom\": 0, \"ferment\": \"black\", \"leafForm\": \"pressed\"}, \"name\": \"Уишань Хун Ча\"}, {\"props\": {\"name\": \"Чжанпин Хун Ча\", \"price\": 400, \"weight\": 50, \"leafSize\": 2, \"arom\": 1, \"ferment\": \"black\", \"leafForm\": \"pressed\"}, \"name\": \"Чжанпин Хун Ча\"}, {\"props\": {\"name\": \"Моли Хуа Хун Ча\", \"price\": 700, \"weight\": 100, \"leafSize\": 2, \"arom\": 0, \"ferment\": \"black\", \"leafForm\": \"pressed\"}, \"name\": \"Моли Хуа Хун Ча\"}, {\"props\": {\"name\": \"Тесс\", \"price\": 100, \"weight\": 100, \"leafSize\": 1, \"arom\": 1, \"ferment\": \"black\", \"leafForm\": \"loose\"}, \"name\": \"Тесс\"}, {\"props\": {\"name\": \"Ява\", \"price\": 100, \"weight\": 100, \"leafSize\": 1, \"arom\": 1, \"ferment\": \"black\", \"leafForm\": \"loose\"}, \"name\": \"Ява\"}]}, {\"name\": \"Зеленый\", \"children\": [{\"props\": {\"name\": \"Жичжао Люй Ча\", \"price\": 1250, \"weight\": 70, \"leafSize\": 2, \"arom\": 1, \"ferment\": \"green\", \"leafForm\": \"loose\"}, \"name\": \"Жичжао Люй Ча\"}, {\"props\": {\"name\": \"Мэндин Шань Мао Фэн\", \"price\": 450, \"weight\": 50, \"leafSize\": 1, \"arom\": 1, \"ferment\": \"green\", \"leafForm\": \"loose\"}, \"name\": \"Мэндин Шань Мао Фэн\"}, {\"props\": {\"name\": \"Люань Гуапянь\", \"price\": 300, \"weight\": 30, \"leafSize\": 2, \"arom\": 1, \"ferment\": \"green\", \"leafForm\": \"loose\"}, \"name\": \"Люань Гуапянь\"}, {\"props\": {\"name\": \"Лун Цзин\", \"price\": 1350, \"weight\": 100, \"leafSize\": 1, \"arom\": 1, \"ferment\": \"green\", \"leafForm\": \"loose\"}, \"name\": \"Лун Цзин\"}, {\"props\": {\"name\": \"Да Фо\", \"price\": 600, \"weight\": 80, \"leafSize\": 1, \"arom\": 0, \"ferment\": \"green\", \"leafForm\": \"loose\"}, \"name\": \"Да Фо\"}, {\"props\": {\"name\": \"Синьян Мао Цзян\", \"price\": 400, \"weight\": 55, \"leafSize\": 2, \"arom\": 0, \"ferment\": \"green\", \"leafForm\": \"loose\"}, \"name\": \"Синьян Мао Цзян\"}, {\"props\": {\"name\": \"Лю Хуа\", \"price\": 1600, \"weight\": 110, \"leafSize\": 2, \"arom\": 1, \"ferment\": \"green\", \"leafForm\": \"twisted\"}, \"name\": \"Лю Хуа\"}, {\"props\": {\"name\": \"Хуаншань Мао Фэн\", \"price\": 400, \"weight\": 75, \"leafSize\": 2, \"arom\": 1, \"ferment\": \"green\", \"leafForm\": \"twisted\"}, \"name\": \"Хуаншань Мао Фэн\"}, {\"props\": {\"name\": \"Тайпин\", \"price\": 600, \"weight\": 100, \"leafSize\": 2, \"arom\": 1, \"ferment\": \"green\", \"leafForm\": \"twisted\"}, \"name\": \"Тайпин\"}, {\"props\": {\"name\": \"Хоу Куй\", \"price\": 300, \"weight\": 15, \"leafSize\": 2, \"arom\": 1, \"ferment\": \"green\", \"leafForm\": \"twisted\"}, \"name\": \"Хоу Куй\"}, {\"props\": {\"name\": \"Лун Чжу\", \"price\": 500, \"weight\": 120, \"leafSize\": 2, \"arom\": 0, \"ferment\": \"green\", \"leafForm\": \"twisted\"}, \"name\": \"Лун Чжу\"}, {\"props\": {\"name\": \"Дунтин\", \"price\": 330, \"weight\": 60, \"leafSize\": 2, \"arom\": 0, \"ferment\": \"green\", \"leafForm\": \"twisted\"}, \"name\": \"Дунтин\"}, {\"props\": {\"name\": \"Билочунь\", \"price\": 950, \"weight\": 70, \"leafSize\": 2, \"arom\": 1, \"ferment\": \"green\", \"leafForm\": \"pressed\"}, \"name\": \"Билочунь\"}, {\"props\": {\"name\": \"Гэммайтя\", \"price\": 200, \"weight\": 10, \"leafSize\": 2, \"arom\": 1, \"ferment\": \"green\", \"leafForm\": \"pressed\"}, \"name\": \"Гэммайтя\"}, {\"props\": {\"name\": \"Аньцзи\", \"price\": 400, \"weight\": 40, \"leafSize\": 2, \"arom\": 1, \"ferment\": \"green\", \"leafForm\": \"pressed\"}, \"name\": \"Аньцзи\"}, {\"props\": {\"name\": \"Бай Ча\", \"price\": 1100, \"weight\": 75, \"leafSize\": 2, \"arom\": 1, \"ferment\": \"green\", \"leafForm\": \"pressed\"}, \"name\": \"Бай Ча\"}, {\"props\": {\"name\": \"Моли Йнь\", \"price\": 1200, \"weight\": 50, \"leafSize\": 2, \"arom\": 0, \"ferment\": \"green\", \"leafForm\": \"pressed\"}, \"name\": \"Моли Йнь\"}, {\"props\": {\"name\": \"Йинь Чжень\", \"price\": 600, \"weight\": 20, \"leafSize\": 2, \"arom\": 0, \"ferment\": \"green\", \"leafForm\": \"pressed\"}, \"name\": \"Йинь Чжень\"}, {\"props\": {\"name\": \"Мао Фэн Люй Ча\", \"price\": 500, \"weight\": 50, \"leafSize\": 2, \"arom\": 1, \"ferment\": \"green\", \"leafForm\": \"loose\"}, \"name\": \"Мао Фэн Люй Ча\"}, {\"props\": {\"name\": \"Лун Цзин из деревни Лонг Ву\", \"price\": 400, \"weight\": 30, \"leafSize\": 1, \"arom\": 1, \"ferment\": \"green\", \"leafForm\": \"loose\"}, \"name\": \"Лун Цзин из деревни Лонг Ву\"}, {\"props\": {\"name\": \"Жасмин\", \"price\": 700, \"weight\": 100, \"leafSize\": 1, \"arom\": 1, \"ferment\": \"green\", \"leafForm\": \"loose\"}, \"name\": \"Жасмин\"}, {\"props\": {\"name\": \"Моли Хуа Хун Ча «Жасминовый чай»\", \"price\": 600, \"weight\": 120, \"leafSize\": 1, \"arom\": 1, \"ferment\": \"green\", \"leafForm\": \"loose\"}, \"name\": \"Моли Хуа Хун Ча «Жасминовый чай»\"}, {\"props\": {\"name\": \"Лун Цзин «Колодец Дракона» с озера Сиху\", \"price\": 1450, \"weight\": 50, \"leafSize\": 2, \"arom\": 0, \"ferment\": \"green\", \"leafForm\": \"loose\"}, \"name\": \"Лун Цзин «Колодец Дракона» с озера Сиху\"}, {\"props\": {\"name\": \"Зелёный чай с горы Лаошань\", \"price\": 750, \"weight\": 50, \"leafSize\": 1, \"arom\": 0, \"ferment\": \"green\", \"leafForm\": \"loose\"}, \"name\": \"Зелёный чай с горы Лаошань\"}, {\"props\": {\"name\": \"Би Ло Чунь\", \"price\": 250, \"weight\": 50, \"leafSize\": 2, \"arom\": 1, \"ferment\": \"green\", \"leafForm\": \"twisted\"}, \"name\": \"Би Ло Чунь\"}, {\"props\": {\"name\": \"Лунцзин Колодец дракона\", \"price\": 250, \"weight\": 50, \"leafSize\": 2, \"arom\": 1, \"ferment\": \"green\", \"leafForm\": \"twisted\"}, \"name\": \"Лунцзин Колодец дракона\"}, {\"props\": {\"name\": \"Бай Мао Хоу\", \"price\": 700, \"weight\": 50, \"leafSize\": 2, \"arom\": 1, \"ferment\": \"green\", \"leafForm\": \"twisted\"}, \"name\": \"Бай Мао Хоу\"}, {\"props\": {\"name\": \"Сян Чжень\", \"price\": 1400, \"weight\": 60, \"leafSize\": 2, \"arom\": 1, \"ferment\": \"green\", \"leafForm\": \"twisted\"}, \"name\": \"Сян Чжень\"}, {\"props\": {\"name\": \"Шу Сян Люй\", \"price\": 700, \"weight\": 50, \"leafSize\": 2, \"arom\": 0, \"ferment\": \"green\", \"leafForm\": \"twisted\"}, \"name\": \"Шу Сян Люй\"}, {\"props\": {\"name\": \"Тай Пин Хоу Куй\", \"price\": 1400, \"weight\": 100, \"leafSize\": 2, \"arom\": 0, \"ferment\": \"green\", \"leafForm\": \"twisted\"}, \"name\": \"Тай Пин Хоу Куй\"}, {\"props\": {\"name\": \"Люй Лун Чжу\", \"price\": 1500, \"weight\": 100, \"leafSize\": 2, \"arom\": 1, \"ferment\": \"green\", \"leafForm\": \"pressed\"}, \"name\": \"Люй Лун Чжу\"}, {\"props\": {\"name\": \"Йин Сы\", \"price\": 500, \"weight\": 30, \"leafSize\": 2, \"arom\": 1, \"ferment\": \"green\", \"leafForm\": \"pressed\"}, \"name\": \"Йин Сы\"}, {\"props\": {\"name\": \"Шен Мэнку Мао Ча\", \"price\": 1200, \"weight\": 100, \"leafSize\": 2, \"arom\": 1, \"ferment\": \"green\", \"leafForm\": \"pressed\"}, \"name\": \"Шен Мэнку Мао Ча\"}, {\"props\": {\"name\": \"Ганпаудер Порох\", \"price\": 100, \"weight\": 100, \"leafSize\": 1, \"arom\": 1, \"ferment\": \"green\", \"leafForm\": \"pressed\"}, \"name\": \"Ганпаудер Порох\"}, {\"props\": {\"name\": \"Завтрак императора\", \"price\": 120, \"weight\": 100, \"leafSize\": 1, \"arom\": 0, \"ferment\": \"green\", \"leafForm\": \"pressed\"}, \"name\": \"Завтрак императора\"}, {\"props\": {\"name\": \"Матча\", \"price\": 1500, \"weight\": 80, \"leafSize\": 1, \"arom\": 0, \"ferment\": \"green\", \"leafForm\": \"pressed\"}, \"name\": \"Матча\"}]}]}\n"
     ]
    }
   ],
   "source": [
    "exporter = JsonExporter(ensure_ascii=False)\n",
    "jsonTea = exporter.export(root)\n",
    "\n",
    "with open(\"tea.json\", \"w\", encoding=\"utf-8\") as outfile:\n",
    "    json.dump(jsonTea, outfile, ensure_ascii=False)\n",
    "    \n",
    "print(jsonTea)"
   ]
  },
  {
   "cell_type": "code",
   "execution_count": null,
   "metadata": {},
   "outputs": [],
   "source": []
  }
 ],
 "metadata": {
  "kernelspec": {
   "display_name": "Python 3",
   "language": "python",
   "name": "python3"
  },
  "language_info": {
   "codemirror_mode": {
    "name": "ipython",
    "version": 3
   },
   "file_extension": ".py",
   "mimetype": "text/x-python",
   "name": "python",
   "nbconvert_exporter": "python",
   "pygments_lexer": "ipython3",
   "version": "3.8.3"
  }
 },
 "nbformat": 4,
 "nbformat_minor": 4
}
