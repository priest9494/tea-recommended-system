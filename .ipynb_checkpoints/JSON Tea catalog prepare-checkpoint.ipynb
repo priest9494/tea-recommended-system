{
 "cells": [
  {
   "cell_type": "markdown",
   "metadata": {},
   "source": [
    "# JSON Экспорт"
   ]
  },
  {
   "cell_type": "code",
   "execution_count": 1,
   "metadata": {},
   "outputs": [],
   "source": [
    "import json\n",
    "from anytree import Node, RenderTree, PreOrderIter\n",
    "from anytree.exporter import UniqueDotExporter\n",
    "from anytree.exporter import JsonExporter"
   ]
  },
  {
   "cell_type": "code",
   "execution_count": 2,
   "metadata": {},
   "outputs": [],
   "source": [
    "class Tea:\n",
    "    name = \"tea\"\n",
    "    price = 0\n",
    "    weight = 0\n",
    "    leafSize = 0\n",
    "    arom = 0\n",
    "    ferment = \"black\"\n",
    "    leafForm = \"pressed\"\n",
    "    \n",
    "    def __init__(self, n, p, w, ls, a, f, lf):\n",
    "        self.name = n\n",
    "        self.price = p\n",
    "        self.weight = w\n",
    "        self.leafSize = ls\n",
    "        self.arom = a\n",
    "        self.ferment = f\n",
    "        self.leafForm = lf\n",
    "        \n",
    "    def getLine(self):\n",
    "        line = \"\"\n",
    "        line += \"name: \" + str(self.name) + \"\\n\"\n",
    "        line += \"price: \" + str(self.price) + \"\\n\"\n",
    "        line += \"weight: \" + str(self.weight) + \"\\n\"\n",
    "        line += \"leafSize: \" + str(self.leafSize) + \"\\n\"\n",
    "        line += \"arom: \" + str(self.arom) + \"\\n\"\n",
    "        line += \"ferment: \" + self.ferment + \"\\n\"\n",
    "        line += \"leafForm: \" + self.leafForm\n",
    "        return line"
   ]
  },
  {
   "cell_type": "code",
   "execution_count": 3,
   "metadata": {},
   "outputs": [],
   "source": [
    "root = Node(name=\"Чай\", classFeature=\"Ферментация\")"
   ]
  },
  {
   "cell_type": "code",
   "execution_count": 4,
   "metadata": {},
   "outputs": [],
   "source": [
    "puer = Node(parent=root, name=\"Пуэр\", classFeature=\"Сырье\")\n",
    "puerBig = Node(parent=puer, name=\"Крупный лист\", classFeature=\"Форма\")\n",
    "puerBigLoose = Node(parent=puerBig, name=\"Рассыпной\")\n",
    "puerBigPressed = Node(parent=puerBig, name=\"Прессованный\")\n",
    "puerSmall = Node(parent=puer, name=\"Мелкий лист\", classFeature=\"Форма\")\n",
    "puerSmallLoose = Node(parent=puerSmall, name=\"Рассыпной\")\n",
    "puerSmallPressed = Node(parent=puerSmall, name=\"Прессованный\")\n",
    "\n",
    "pbl1 = Node(parent=puerBigLoose, name=\"Фэнцин\", props = vars(Tea(\"Фэнцин\", 1400, 100, 3, 0, \"puer\", \"loose\")))\n",
    "pbl2 = Node(parent=puerBigLoose, name=\"Мэнку\", props = vars(Tea(\"Мэнку\", 550, 30, 3, 0, \"puer\", \"loose\")))\n",
    "pbp1 = Node(parent=puerBigPressed, name=\"Дали\", props = vars(Tea(\"Дали\", 690, 100, 3, 0, \"puer\", \"pressed\")))\n",
    "pbp1 = Node(parent=puerBigPressed, name=\"Тенчун\", props = vars(Tea(\"Тенчун\", 1900, 120, 3, 0, \"puer\", \"pressed\")))\n",
    "psl1 =  Node(parent=puerSmallLoose, name=\"Булан\", props = vars(Tea(\"Булан\", 900, 30, 2, 0, \"puer\", \"loose\")))\n",
    "psl2 =  Node(parent=puerSmallLoose, name=\"ГуанНань\", props = vars(Tea(\"ГуанНань\", 1000, 90, 2, 0, \"puer\", \"loose\")))\n",
    "psp1 =  Node(parent=puerSmallPressed, name=\"ДаЛи\", props = vars(Tea(\"ДаЛи\", 550, 80, 2, 0, \"puer\", \"pressed\")))\n",
    "psp1 =  Node(parent=puerSmallPressed, name=\"ГуанСи\", props = vars(Tea(\"ГуанСи\", 500, 30, 2, 0, \"puer\", \"pressed\")))"
   ]
  },
  {
   "cell_type": "code",
   "execution_count": 5,
   "metadata": {},
   "outputs": [],
   "source": [
    "oolong = Node(parent=root, name=\"Улун\", classFeature=\"Сырье\")\n",
    "oolongSemiFermented = Node(parent=oolong, name=\"Полуферментированный\", classFeature=\"Ферментация\")\n",
    "oolongSemiFermentedSpherical = Node(parent=oolongSemiFermented, name=\"Сферическая скрутка\", classFeature=\"Форма листа\")\n",
    "oolongSemiFermentedNatural = Node(parent=oolongSemiFermented, name=\"Естественная скрутка\", classFeature=\"Форма листа\")\n",
    "oolongFermented = Node(parent=oolong, name=\"Ферментированный\", classFeature=\"Ферментация\")\n",
    "oolongFermentedSpherical = Node(parent=oolongFermented, name=\"Сферическая скрутка\", classFeature=\"Форма листа\")\n",
    "oolongFermentedNatural = Node(parent=oolongFermented, name=\"Естественная скрутка\", classFeature=\"Форма листа\")\n",
    "\n",
    "oss1 = Node(parent=oolongSemiFermentedNatural, name=\"Фэн Хуан Дань Цун\", props = vars(Tea(\"Фэн Хуан Дань Цун\", 1450, 100, 3, 0, \"oolong\", \"twisted\")))\n",
    "oss2 = Node(parent=oolongSemiFermentedNatural, name=\"БаоДжун\", props = vars(Tea(\"БаоДжун\", 600, 100, 3, 0, \"oolong\", \"twisted\")))\n",
    "ooss1 = Node(parent=oolongSemiFermentedSpherical, name=\"ТеГуань\", props = vars(Tea(\"ТеГуань\", 800, 30, 3, 1, \"oolong\", \"twisted\")))\n",
    "ooss2 = Node(parent=oolongSemiFermentedSpherical, name=\"Алишань\", props = vars(Tea(\"Алишань\", 950, 70, 3, 0, \"oolong\", \"twisted\")))\n",
    "oofs1 = Node(parent=oolongFermentedSpherical, name=\"Да Хун Пао\", props = vars(Tea(\"Да Хун Пао\", 1900, 120, 3, 0, \"oolong\", \"twisted\")))\n",
    "oofs2 = Node(parent=oolongFermentedSpherical, name=\"БайХао\", props = vars(Tea(\"БайХао\", 880, 120, 3, 1, \"oolong\", \"twisted\")))\n",
    "oofn1 = Node(parent=oolongFermentedNatural, name=\"Пэнфен\", props = vars(Tea(\"Пэнфен\", 800, 50, 3, 0, \"oolong\", \"twisted\")))\n",
    "oofn1 = Node(parent=oolongFermentedNatural, name=\"Дун Дин\", props = vars(Tea(\"Дун Дин\", 400, 30, 3, 1, \"oolong\", \"twisted\")))"
   ]
  },
  {
   "cell_type": "code",
   "execution_count": 6,
   "metadata": {},
   "outputs": [],
   "source": [
    "black = Node(parent=root, name=\"Черный\", classFeature=\"Тип обработки\")\n",
    "blackLongTerm = Node(parent=black, name=\"Байховый\", classFeatue=\"Размер чаинок\")\n",
    "blackLongTermLeaf = Node(parent=blackLongTerm, name=\"Листовой\")\n",
    "blackLongTermBroken = Node(parent=blackLongTerm, name=\"Брокен\")\n",
    "blackLongTermSeeding = Node(parent=blackLongTerm, name=\"Высевка\")\n",
    "blackLongPressed = Node(parent=black, name=\"Прессованный\", classFeatue=\"Форма\")\n",
    "blackLongPressedBrick = Node(parent=blackLongPressed, name=\"Кирпичный\")\n",
    "blackLongPressedTableted = Node(parent=blackLongPressed, name=\"Таблетированный\")\n",
    "blackLongExtracted = Node(parent=black, name=\"Экстрагированный\")\n",
    "\n",
    "bltl1  = Node(parent=blackLongTermLeaf, name=\"Дянь Хун\", props = vars(Tea(\"Дянь Хун\", 1200, 100, 3, 0, \"black\", \"twisted\")))\n",
    "bltl1  = Node(parent=blackLongTermLeaf, name=\"Таньян Гунфу\", props = vars(Tea(\"Таньян Гунфу\", 850, 100, 3, 0, \"black\", \"twisted\")))\n",
    "bltb1 = Node(parent=blackLongTermBroken, name=\"Фэн Хуан Дань Цун\", props = vars(Tea(\"Фэн Хуан Дань Цун\", 1600, 120, 2, 0, \"black\", \"loose\")))\n",
    "bltb2 = Node(parent=blackLongTermBroken, name=\"Цзинь Цзюнь Мэй\", props = vars(Tea(\"Цзинь Цзюнь Мэй\", 400, 60, 2, 0, \"black\", \"loose\")))\n",
    "blts1 = Node(parent=blackLongTermSeeding, name=\"Ци хун\", props = vars(Tea(\"Ци хун\", 300, 70, 1, 0, \"black\", \"loose\")))\n",
    "blts2 = Node(parent=blackLongTermSeeding, name=\"Чжэнь Шань Сяо Чжун\", props = vars(Tea(\"Чжэнь Шань Сяо Чжун\", 1850, 130, 1, 0, \"black\", \"loose\")))\n",
    "blpb1 = Node(parent=blackLongPressedBrick, name=\"Дянь Хун Сун Чжень\", props = vars(Tea(\"Дянь Хун Сун Чжень\", 700, 30, 2, 0, \"black\", \"pressed\")))\n",
    "blpb2 = Node(parent=blackLongPressedBrick, name=\"Уишань Хун Ча\", props = vars(Tea(\"Уишань Хун Ча\", 300, 30, 2, 0, \"black\", \"pressed\")))\n",
    "blpt1  = Node(parent=blackLongPressedTableted, name=\"Чжанпин Хун Ча\", props = vars(Tea(\"Чжанпин Хун Ча\", 400, 50, 2, 1, \"black\", \"pressed\")))\n",
    "blpt2 = Node(parent=blackLongPressedTableted, name=\"Моли Хуа Хун Ча\", props = vars(Tea(\"Моли Хуа Хун Ча\", 700, 100, 2, 0, \"black\", \"pressed\")))\n",
    "ble1 = Node(parent=blackLongExtracted, name=\"Тесс\", props = vars(Tea(\"Тесс\", 100, 100, 1, 1, \"black\", \"loose\")))\n",
    "ble2 = Node(parent=blackLongExtracted, name=\"Ява\", props = vars(Tea(\"Ява\", 100, 100, 1, 1, \"black\", \"loose\")))"
   ]
  },
  {
   "cell_type": "code",
   "execution_count": 7,
   "metadata": {},
   "outputs": [],
   "source": [
    "green = Node(parent=root, name=\"Зеленый\", classFeature=\"Сырье\")\n",
    "greenBud = Node(parent=green, name=\"Почковый\", classFeature=\"Форма\")\n",
    "greenBudLoose = Node(parent=greenBud, name=\"Рассыпной\", classFeature=\"Ароматизация\")\n",
    "greenBudLooseTraditionalJasmine = Node(parent=greenBudLoose, name=\"Традиционный жасминовый\", titles=[\"ex1\", \"ex2\"])\n",
    "greenBudLooseDryJasmineLeaves = Node(parent=greenBudLoose, name=\"Сухие листья жасмина\", titles=[\"ex1\", \"ex2\"])\n",
    "greenBudLooseNoArom = Node(parent=greenBudLoose, name=\"Без ароматизации\", titles=[\"ex1\", \"ex2\"])\n",
    "greenBudTied = Node(parent=greenBud, name=\"Связанный\", classFeature=\"Ароматизация\")\n",
    "greenBudTiedTraditionalJasmine = Node(parent=greenBudTied, name=\"Традиционный жасминовый\", titles=[\"ex1\", \"ex2\"])\n",
    "greenBudTiedDryJasmineLeaves = Node(parent=greenBudTied, name=\"Сухие листья жасмина\", titles=[\"ex1\", \"ex2\"])\n",
    "greenBudTiedNoArom = Node(parent=greenBudTied, name=\"Без ароматизации\", titles=[\"ex1\", \"ex2\"])\n",
    "greenBudPressed = Node(parent=greenBud, name=\"Прессованный\", classFeature=\"Ароматизация\")\n",
    "greenBudPressedTraditionalJasmine = Node(parent=greenBudPressed, name=\"Традиционный жасминовый\", titles=[\"ex1\", \"ex2\"])\n",
    "greenBudPressedDryJasmineLeaves = Node(parent=greenBudPressed, name=\"Сухие листья жасмина\", titles=[\"ex1\", \"ex2\"])\n",
    "greenBudPressedNoArom = Node(parent=greenBudPressed, name=\"Без ароматизации\", titles=[\"ex1\", \"ex2\"])\n",
    "greenBudLeaves = Node(parent=green, name=\"Почки и листья\", classFeature=\"Форма\")\n",
    "greenBudLeavesLoose = Node(parent=greenBudLeaves, name=\"Рассыпной\", classFeature=\"Ароматизация\")\n",
    "greenBudLeavesLooseTraditionalJasmine = Node(parent=greenBudLeavesLoose, name=\"Традиционный жасминовый\", titles=[\"ex1\", \"ex2\"])\n",
    "greenBudLeavesLooseDryJasmineLeaves = Node(parent=greenBudLeavesLoose, name=\"Сухие листья жасмина\", titles=[\"ex1\", \"ex2\"])\n",
    "greenBudLeavesLooseNoArom = Node(parent=greenBudLeavesLoose, name=\"Без ароматизации\", titles=[\"ex1\", \"ex2\"])\n",
    "greenBudLeavesTied = Node(parent=greenBudLeaves, name=\"Связанный\", classFeature=\"Ароматизация\")\n",
    "greenBudLeavesTiedTraditionalJasmine = Node(parent=greenBudLeavesTied, name=\"Традиционный жасминовый\", titles=[\"ex1\", \"ex2\"])\n",
    "greenBudLeavesTiedDryJasmineLeaves = Node(parent=greenBudLeavesTied, name=\"Сухие листья жасмина\", titles=[\"ex1\", \"ex2\"])\n",
    "greenBudLeavesTiedNoArom = Node(parent=greenBudLeavesTied, name=\"Без ароматизации\", titles=[\"ex1\", \"ex2\"])\n",
    "greenBudLeavesPressed = Node(parent=greenBudLeaves, name=\"Прессованный\", classFeature=\"Ароматизация\")\n",
    "greenBudLeavesPressedTraditionalJasmine = Node(parent=greenBudLeavesPressed, name=\"Традиционный жасминовый\", titles=[\"ex1\", \"ex2\"])\n",
    "greenBudLeavesPressedDryJasmineLeaves = Node(parent=greenBudLeavesPressed, name=\"Сухие листья жасмина\", titles=[\"ex1\", \"ex2\"])\n",
    "greenBudLeavesPressedNoArom = Node(parent=greenBudLeavesPressed, name=\"Без ароматизации\", titles=[\"ex1\", \"ex2\"])\n",
    "\n",
    "gbltj1 = Node(parent=greenBudLooseTraditionalJasmine, name=\"Жичжао Люй Ча\", props = vars(Tea(\"Жичжао Люй Ча\", 1250, 70, 2, 1, \"green\", \"loose\")))\n",
    "gbltj2 = Node(parent=greenBudLooseTraditionalJasmine, name=\"Мэндин Шань Мао Фэн\", props = vars(Tea(\"Мэндин Шань Мао Фэн\", 450, 50, 1, 1, \"green\", \"loose\")))\n",
    "gbldjl1 = Node(parent=greenBudLooseDryJasmineLeaves, name=\"Люань Гуапянь\", props = vars(Tea(\"Люань Гуапянь\", 300, 30, 2, 1, \"green\", \"loose\")))\n",
    "gbldjl2 = Node(parent=greenBudLooseDryJasmineLeaves, name=\"Лун Цзин\", props = vars(Tea(\"Лун Цзин\", 1350, 100, 1, 1, \"green\", \"loose\")))\n",
    "gblna1 = Node(parent=greenBudLooseNoArom, name=\"Да Фо\", props = vars(Tea(\"Да Фо\", 600, 80, 1, 0, \"green\", \"loose\")))\n",
    "gblna2 = Node(parent=greenBudLooseNoArom, name=\"Синьян Мао Цзян\", props = vars(Tea(\"Синьян Мао Цзян\", 400, 55, 2, 0, \"green\", \"loose\")))\n",
    "gbttj1 = Node(parent=greenBudTiedTraditionalJasmine, name=\"Лю Хуа\", props = vars(Tea(\"Лю Хуа\", 1600, 110, 2, 1, \"green\", \"twisted\")))\n",
    "gbttj2 = Node(parent=greenBudTiedTraditionalJasmine, name=\"Хуаншань Мао Фэн\", props = vars(Tea(\"Хуаншань Мао Фэн\", 400, 75, 2, 1, \"green\", \"twisted\")))\n",
    "gbtnj1 = Node(parent=greenBudTiedDryJasmineLeaves, name=\"Тайпин\", props = vars(Tea(\"Тайпин\", 600, 100, 2, 1, \"green\", \"twisted\")))\n",
    "gbtnj2 = Node(parent=greenBudTiedDryJasmineLeaves, name=\"Хоу Куй\", props = vars(Tea(\"Хоу Куй\", 300, 15, 2, 1, \"green\", \"twisted\")))\n",
    "\n",
    "gbtna1 = Node(parent=greenBudTiedNoArom, name=\"Лун Чжу\", props = vars(Tea(\"Лун Чжу\", 500, 120, 2, 0, \"green\", \"twisted\")))\n",
    "gbtna2 = Node(parent=greenBudTiedNoArom, name=\"Дунтин\", props = vars(Tea(\"Дунтин\", 330, 60, 2, 0, \"green\", \"twisted\")))\n",
    "gbptj1 = Node(parent=greenBudPressedTraditionalJasmine, name=\"Билочунь\", props = vars(Tea(\"Билочунь\", 950, 70, 2, 1, \"green\", \"pressed\")))\n",
    "gbptj2 = Node(parent=greenBudPressedTraditionalJasmine, name=\"Гэммайтя\", props = vars(Tea(\"Гэммайтя\", 200, 10, 2, 1, \"green\", \"pressed\")))\n",
    "gbpdj1 = Node(parent=greenBudPressedDryJasmineLeaves, name=\"Аньцзи\", props = vars(Tea(\"Аньцзи\", 400, 40, 2, 1, \"green\", \"pressed\")))\n",
    "gbpdj2 = Node(parent=greenBudPressedDryJasmineLeaves, name=\"Бай Ча\", props = vars(Tea(\"Бай Ча\", 1100, 75, 2, 1, \"green\", \"pressed\")))\n",
    "gbpna1 = Node(parent=greenBudPressedNoArom, name=\"Моли Йнь\", props = vars(Tea(\"Моли Йнь\", 1200, 50, 2, 0, \"green\", \"pressed\")))\n",
    "gbpna2 = Node(parent=greenBudPressedNoArom, name=\"Йинь Чжень\", props = vars(Tea(\"Йинь Чжень\", 600, 20, 2, 0, \"green\", \"pressed\")))\n",
    "\n",
    "gblltj1 = Node(parent=greenBudLeavesLooseTraditionalJasmine, name=\"Мао Фэн Люй Ча\", props = vars(Tea(\"Мао Фэн Люй Ча\", 500, 50, 2, 1, \"green\", \"loose\")))\n",
    "gblltj2 = Node(parent=greenBudLeavesLooseTraditionalJasmine, name=\"Лун Цзин из деревни Лонг Ву\", props = vars(Tea(\"Лун Цзин из деревни Лонг Ву\", 400, 30, 1, 1, \"green\", \"loose\")))\n",
    "gblldj1 = Node(parent=greenBudLeavesLooseDryJasmineLeaves, name=\"Жасмин\", props = vars(Tea(\"Жасмин\", 700, 100, 1, 1, \"green\", \"loose\")))\n",
    "gblldj2 = Node(parent=greenBudLeavesLooseDryJasmineLeaves, name=\"Моли Хуа Хун Ча «Жасминовый чай»\", props = vars(Tea(\"Моли Хуа Хун Ча «Жасминовый чай»\", 600, 120, 1, 1, \"green\", \"loose\")))\n",
    "gbllna1 = Node(parent=greenBudLeavesLooseNoArom, name=\"Лун Цзин «Колодец Дракона» с озера Сиху\", props = vars(Tea(\"Лун Цзин «Колодец Дракона» с озера Сиху\", 1450, 50, 2, 0, \"green\", \"loose\")))\n",
    "gbllna2 = Node(parent=greenBudLeavesLooseNoArom, name=\"Зелёный чай с горы Лаошань\", props = vars(Tea(\"Зелёный чай с горы Лаошань\", 750, 50, 1, 0, \"green\", \"loose\")))\n",
    "gblttj1 = Node(parent=greenBudLeavesTiedTraditionalJasmine, name=\"Би Ло Чунь\", props = vars(Tea(\"Би Ло Чунь\", 250, 50, 2, 1, \"green\", \"twisted\")))\n",
    "gblttj2 = Node(parent=greenBudLeavesTiedTraditionalJasmine, name=\"Лунцзин Колодец дракона\", props =vars(Tea(\"Лунцзин Колодец дракона\", 250, 50, 2, 1, \"green\", \"twisted\")))\n",
    "gbltdj1 = Node(parent=greenBudLeavesTiedDryJasmineLeaves, name=\"Бай Мао Хоу\", props = vars(Tea(\"Бай Мао Хоу\", 700, 50, 2, 1, \"green\", \"twisted\")))\n",
    "gbltdj2 = Node(parent=greenBudLeavesTiedDryJasmineLeaves, name=\"Сян Чжень\", props = vars(Tea(\"Сян Чжень\", 1400, 60, 2, 1, \"green\", \"twisted\")))\n",
    "gbltna1 = Node(parent=greenBudLeavesTiedNoArom, name=\"Шу Сян Люй\", props = vars(Tea(\"Шу Сян Люй\", 700, 50, 2, 0, \"green\", \"twisted\")))\n",
    "gbltna2 = Node(parent=greenBudLeavesTiedNoArom, name=\"Тай Пин Хоу Куй\", props = vars(Tea(\"Тай Пин Хоу Куй\", 1400, 100, 2, 0, \"green\", \"twisted\")))\n",
    "gblptj1 = Node(parent=greenBudLeavesPressedTraditionalJasmine, name=\"Люй Лун Чжу\", props = vars(Tea(\"Люй Лун Чжу\", 1500, 100, 2, 1, \"green\", \"pressed\")))\n",
    "gblptj2 = Node(parent=greenBudLeavesPressedTraditionalJasmine, name=\"Йин Сы\", props = vars(Tea(\"Йин Сы\", 500, 30, 2, 1, \"green\", \"pressed\")))\n",
    "gblpdj1 = Node(parent=greenBudLeavesPressedDryJasmineLeaves, name=\"Шен Мэнку Мао Ча\", props = vars(Tea(\"Шен Мэнку Мао Ча\", 1200, 100, 2, 1, \"green\", \"pressed\")))\n",
    "gblpdj2 = Node(parent=greenBudLeavesPressedDryJasmineLeaves, name=\"Ганпаудер Порох\", props = vars(Tea(\"Ганпаудер Порох\", 100, 100, 1, 1, \"green\", \"pressed\")))\n",
    "gblpna1 = Node(parent=greenBudLeavesPressedNoArom, name=\"Завтрак императора\", props = vars(Tea(\"Завтрак императора\", 120, 100, 1, 0, \"green\", \"pressed\")))\n",
    "gblpna2 = Node(parent=greenBudLeavesPressedNoArom, name=\"Матча\", props = vars(Tea(\"Матча\", 1500, 80, 1, 0, \"green\", \"pressed\")))"
   ]
  },
  {
   "cell_type": "code",
   "execution_count": 8,
   "metadata": {},
   "outputs": [
    {
     "name": "stdout",
     "output_type": "stream",
     "text": [
      "{\"classFeature\": \"Ферментация\", \"name\": \"Чай\", \"children\": [{\"classFeature\": \"Сырье\", \"name\": \"Пуэр\", \"children\": [{\"classFeature\": \"Форма\", \"name\": \"Крупный лист\", \"children\": [{\"name\": \"Рассыпной\", \"children\": [{\"props\": {\"name\": \"Фэнцин\", \"price\": 1400, \"weight\": 100, \"leafSize\": 3, \"arom\": 0, \"ferment\": \"puer\", \"leafForm\": \"loose\"}, \"name\": \"Фэнцин\"}, {\"props\": {\"name\": \"Мэнку\", \"price\": 550, \"weight\": 30, \"leafSize\": 3, \"arom\": 0, \"ferment\": \"puer\", \"leafForm\": \"loose\"}, \"name\": \"Мэнку\"}]}, {\"name\": \"Прессованный\", \"children\": [{\"props\": {\"name\": \"Дали\", \"price\": 690, \"weight\": 100, \"leafSize\": 3, \"arom\": 0, \"ferment\": \"puer\", \"leafForm\": \"pressed\"}, \"name\": \"Дали\"}, {\"props\": {\"name\": \"Тенчун\", \"price\": 1900, \"weight\": 120, \"leafSize\": 3, \"arom\": 0, \"ferment\": \"puer\", \"leafForm\": \"pressed\"}, \"name\": \"Тенчун\"}]}]}, {\"classFeature\": \"Форма\", \"name\": \"Мелкий лист\", \"children\": [{\"name\": \"Рассыпной\", \"children\": [{\"props\": {\"name\": \"Булан\", \"price\": 900, \"weight\": 30, \"leafSize\": 2, \"arom\": 0, \"ferment\": \"puer\", \"leafForm\": \"loose\"}, \"name\": \"Булан\"}, {\"props\": {\"name\": \"ГуанНань\", \"price\": 1000, \"weight\": 90, \"leafSize\": 2, \"arom\": 0, \"ferment\": \"puer\", \"leafForm\": \"loose\"}, \"name\": \"ГуанНань\"}]}, {\"name\": \"Прессованный\", \"children\": [{\"props\": {\"name\": \"ДаЛи\", \"price\": 550, \"weight\": 80, \"leafSize\": 2, \"arom\": 0, \"ferment\": \"puer\", \"leafForm\": \"pressed\"}, \"name\": \"ДаЛи\"}, {\"props\": {\"name\": \"ГуанСи\", \"price\": 500, \"weight\": 30, \"leafSize\": 2, \"arom\": 0, \"ferment\": \"puer\", \"leafForm\": \"pressed\"}, \"name\": \"ГуанСи\"}]}]}]}, {\"classFeature\": \"Сырье\", \"name\": \"Улун\", \"children\": [{\"classFeature\": \"Ферментация\", \"name\": \"Полуферментированный\", \"children\": [{\"classFeature\": \"Форма листа\", \"name\": \"Сферическая скрутка\", \"children\": [{\"props\": {\"name\": \"ТеГуань\", \"price\": 800, \"weight\": 30, \"leafSize\": 3, \"arom\": 1, \"ferment\": \"oolong\", \"leafForm\": \"twisted\"}, \"name\": \"ТеГуань\"}, {\"props\": {\"name\": \"Алишань\", \"price\": 950, \"weight\": 70, \"leafSize\": 3, \"arom\": 0, \"ferment\": \"oolong\", \"leafForm\": \"twisted\"}, \"name\": \"Алишань\"}]}, {\"classFeature\": \"Форма листа\", \"name\": \"Естественная скрутка\", \"children\": [{\"props\": {\"name\": \"Фэн Хуан Дань Цун\", \"price\": 1450, \"weight\": 100, \"leafSize\": 3, \"arom\": 0, \"ferment\": \"oolong\", \"leafForm\": \"twisted\"}, \"name\": \"Фэн Хуан Дань Цун\"}, {\"props\": {\"name\": \"БаоДжун\", \"price\": 600, \"weight\": 100, \"leafSize\": 3, \"arom\": 0, \"ferment\": \"oolong\", \"leafForm\": \"twisted\"}, \"name\": \"БаоДжун\"}]}]}, {\"classFeature\": \"Ферментация\", \"name\": \"Ферментированный\", \"children\": [{\"classFeature\": \"Форма листа\", \"name\": \"Сферическая скрутка\", \"children\": [{\"props\": {\"name\": \"Да Хун Пао\", \"price\": 1900, \"weight\": 120, \"leafSize\": 3, \"arom\": 0, \"ferment\": \"oolong\", \"leafForm\": \"twisted\"}, \"name\": \"Да Хун Пао\"}, {\"props\": {\"name\": \"БайХао\", \"price\": 880, \"weight\": 120, \"leafSize\": 3, \"arom\": 1, \"ferment\": \"oolong\", \"leafForm\": \"twisted\"}, \"name\": \"БайХао\"}]}, {\"classFeature\": \"Форма листа\", \"name\": \"Естественная скрутка\", \"children\": [{\"props\": {\"name\": \"Пэнфен\", \"price\": 800, \"weight\": 50, \"leafSize\": 3, \"arom\": 0, \"ferment\": \"oolong\", \"leafForm\": \"twisted\"}, \"name\": \"Пэнфен\"}, {\"props\": {\"name\": \"Дун Дин\", \"price\": 400, \"weight\": 30, \"leafSize\": 3, \"arom\": 1, \"ferment\": \"oolong\", \"leafForm\": \"twisted\"}, \"name\": \"Дун Дин\"}]}]}]}, {\"classFeature\": \"Тип обработки\", \"name\": \"Черный\", \"children\": [{\"classFeatue\": \"Размер чаинок\", \"name\": \"Байховый\", \"children\": [{\"name\": \"Листовой\", \"children\": [{\"props\": {\"name\": \"Дянь Хун\", \"price\": 1200, \"weight\": 100, \"leafSize\": 3, \"arom\": 0, \"ferment\": \"black\", \"leafForm\": \"twisted\"}, \"name\": \"Дянь Хун\"}, {\"props\": {\"name\": \"Таньян Гунфу\", \"price\": 850, \"weight\": 100, \"leafSize\": 3, \"arom\": 0, \"ferment\": \"black\", \"leafForm\": \"twisted\"}, \"name\": \"Таньян Гунфу\"}]}, {\"name\": \"Брокен\", \"children\": [{\"props\": {\"name\": \"Фэн Хуан Дань Цун\", \"price\": 1600, \"weight\": 120, \"leafSize\": 2, \"arom\": 0, \"ferment\": \"black\", \"leafForm\": \"loose\"}, \"name\": \"Фэн Хуан Дань Цун\"}, {\"props\": {\"name\": \"Цзинь Цзюнь Мэй\", \"price\": 400, \"weight\": 60, \"leafSize\": 2, \"arom\": 0, \"ferment\": \"black\", \"leafForm\": \"loose\"}, \"name\": \"Цзинь Цзюнь Мэй\"}]}, {\"name\": \"Высевка\", \"children\": [{\"props\": {\"name\": \"Ци хун\", \"price\": 300, \"weight\": 70, \"leafSize\": 1, \"arom\": 0, \"ferment\": \"black\", \"leafForm\": \"loose\"}, \"name\": \"Ци хун\"}, {\"props\": {\"name\": \"Чжэнь Шань Сяо Чжун\", \"price\": 1850, \"weight\": 130, \"leafSize\": 1, \"arom\": 0, \"ferment\": \"black\", \"leafForm\": \"loose\"}, \"name\": \"Чжэнь Шань Сяо Чжун\"}]}]}, {\"classFeatue\": \"Форма\", \"name\": \"Прессованный\", \"children\": [{\"name\": \"Кирпичный\", \"children\": [{\"props\": {\"name\": \"Дянь Хун Сун Чжень\", \"price\": 700, \"weight\": 30, \"leafSize\": 2, \"arom\": 0, \"ferment\": \"black\", \"leafForm\": \"pressed\"}, \"name\": \"Дянь Хун Сун Чжень\"}, {\"props\": {\"name\": \"Уишань Хун Ча\", \"price\": 300, \"weight\": 30, \"leafSize\": 2, \"arom\": 0, \"ferment\": \"black\", \"leafForm\": \"pressed\"}, \"name\": \"Уишань Хун Ча\"}]}, {\"name\": \"Таблетированный\", \"children\": [{\"props\": {\"name\": \"Чжанпин Хун Ча\", \"price\": 400, \"weight\": 50, \"leafSize\": 2, \"arom\": 1, \"ferment\": \"black\", \"leafForm\": \"pressed\"}, \"name\": \"Чжанпин Хун Ча\"}, {\"props\": {\"name\": \"Моли Хуа Хун Ча\", \"price\": 700, \"weight\": 100, \"leafSize\": 2, \"arom\": 0, \"ferment\": \"black\", \"leafForm\": \"pressed\"}, \"name\": \"Моли Хуа Хун Ча\"}]}]}, {\"name\": \"Экстрагированный\", \"children\": [{\"props\": {\"name\": \"Тесс\", \"price\": 100, \"weight\": 100, \"leafSize\": 1, \"arom\": 1, \"ferment\": \"black\", \"leafForm\": \"loose\"}, \"name\": \"Тесс\"}, {\"props\": {\"name\": \"Ява\", \"price\": 100, \"weight\": 100, \"leafSize\": 1, \"arom\": 1, \"ferment\": \"black\", \"leafForm\": \"loose\"}, \"name\": \"Ява\"}]}]}, {\"classFeature\": \"Сырье\", \"name\": \"Зеленый\", \"children\": [{\"classFeature\": \"Форма\", \"name\": \"Почковый\", \"children\": [{\"classFeature\": \"Ароматизация\", \"name\": \"Рассыпной\", \"children\": [{\"titles\": [\"ex1\", \"ex2\"], \"name\": \"Традиционный жасминовый\", \"children\": [{\"props\": {\"name\": \"Жичжао Люй Ча\", \"price\": 1250, \"weight\": 70, \"leafSize\": 2, \"arom\": 1, \"ferment\": \"green\", \"leafForm\": \"loose\"}, \"name\": \"Жичжао Люй Ча\"}, {\"props\": {\"name\": \"Мэндин Шань Мао Фэн\", \"price\": 450, \"weight\": 50, \"leafSize\": 1, \"arom\": 1, \"ferment\": \"green\", \"leafForm\": \"loose\"}, \"name\": \"Мэндин Шань Мао Фэн\"}]}, {\"titles\": [\"ex1\", \"ex2\"], \"name\": \"Сухие листья жасмина\", \"children\": [{\"props\": {\"name\": \"Люань Гуапянь\", \"price\": 300, \"weight\": 30, \"leafSize\": 2, \"arom\": 1, \"ferment\": \"green\", \"leafForm\": \"loose\"}, \"name\": \"Люань Гуапянь\"}, {\"props\": {\"name\": \"Лун Цзин\", \"price\": 1350, \"weight\": 100, \"leafSize\": 1, \"arom\": 1, \"ferment\": \"green\", \"leafForm\": \"loose\"}, \"name\": \"Лун Цзин\"}]}, {\"titles\": [\"ex1\", \"ex2\"], \"name\": \"Без ароматизации\", \"children\": [{\"props\": {\"name\": \"Да Фо\", \"price\": 600, \"weight\": 80, \"leafSize\": 1, \"arom\": 0, \"ferment\": \"green\", \"leafForm\": \"loose\"}, \"name\": \"Да Фо\"}, {\"props\": {\"name\": \"Синьян Мао Цзян\", \"price\": 400, \"weight\": 55, \"leafSize\": 2, \"arom\": 0, \"ferment\": \"green\", \"leafForm\": \"loose\"}, \"name\": \"Синьян Мао Цзян\"}]}]}, {\"classFeature\": \"Ароматизация\", \"name\": \"Связанный\", \"children\": [{\"titles\": [\"ex1\", \"ex2\"], \"name\": \"Традиционный жасминовый\", \"children\": [{\"props\": {\"name\": \"Лю Хуа\", \"price\": 1600, \"weight\": 110, \"leafSize\": 2, \"arom\": 1, \"ferment\": \"green\", \"leafForm\": \"twisted\"}, \"name\": \"Лю Хуа\"}, {\"props\": {\"name\": \"Хуаншань Мао Фэн\", \"price\": 400, \"weight\": 75, \"leafSize\": 2, \"arom\": 1, \"ferment\": \"green\", \"leafForm\": \"twisted\"}, \"name\": \"Хуаншань Мао Фэн\"}]}, {\"titles\": [\"ex1\", \"ex2\"], \"name\": \"Сухие листья жасмина\", \"children\": [{\"props\": {\"name\": \"Тайпин\", \"price\": 600, \"weight\": 100, \"leafSize\": 2, \"arom\": 1, \"ferment\": \"green\", \"leafForm\": \"twisted\"}, \"name\": \"Тайпин\"}, {\"props\": {\"name\": \"Хоу Куй\", \"price\": 300, \"weight\": 15, \"leafSize\": 2, \"arom\": 1, \"ferment\": \"green\", \"leafForm\": \"twisted\"}, \"name\": \"Хоу Куй\"}]}, {\"titles\": [\"ex1\", \"ex2\"], \"name\": \"Без ароматизации\", \"children\": [{\"props\": {\"name\": \"Лун Чжу\", \"price\": 500, \"weight\": 120, \"leafSize\": 2, \"arom\": 0, \"ferment\": \"green\", \"leafForm\": \"twisted\"}, \"name\": \"Лун Чжу\"}, {\"props\": {\"name\": \"Дунтин\", \"price\": 330, \"weight\": 60, \"leafSize\": 2, \"arom\": 0, \"ferment\": \"green\", \"leafForm\": \"twisted\"}, \"name\": \"Дунтин\"}]}]}, {\"classFeature\": \"Ароматизация\", \"name\": \"Прессованный\", \"children\": [{\"titles\": [\"ex1\", \"ex2\"], \"name\": \"Традиционный жасминовый\", \"children\": [{\"props\": {\"name\": \"Билочунь\", \"price\": 950, \"weight\": 70, \"leafSize\": 2, \"arom\": 1, \"ferment\": \"green\", \"leafForm\": \"pressed\"}, \"name\": \"Билочунь\"}, {\"props\": {\"name\": \"Гэммайтя\", \"price\": 200, \"weight\": 10, \"leafSize\": 2, \"arom\": 1, \"ferment\": \"green\", \"leafForm\": \"pressed\"}, \"name\": \"Гэммайтя\"}]}, {\"titles\": [\"ex1\", \"ex2\"], \"name\": \"Сухие листья жасмина\", \"children\": [{\"props\": {\"name\": \"Аньцзи\", \"price\": 400, \"weight\": 40, \"leafSize\": 2, \"arom\": 1, \"ferment\": \"green\", \"leafForm\": \"pressed\"}, \"name\": \"Аньцзи\"}, {\"props\": {\"name\": \"Бай Ча\", \"price\": 1100, \"weight\": 75, \"leafSize\": 2, \"arom\": 1, \"ferment\": \"green\", \"leafForm\": \"pressed\"}, \"name\": \"Бай Ча\"}]}, {\"titles\": [\"ex1\", \"ex2\"], \"name\": \"Без ароматизации\", \"children\": [{\"props\": {\"name\": \"Моли Йнь\", \"price\": 1200, \"weight\": 50, \"leafSize\": 2, \"arom\": 0, \"ferment\": \"green\", \"leafForm\": \"pressed\"}, \"name\": \"Моли Йнь\"}, {\"props\": {\"name\": \"Йинь Чжень\", \"price\": 600, \"weight\": 20, \"leafSize\": 2, \"arom\": 0, \"ferment\": \"green\", \"leafForm\": \"pressed\"}, \"name\": \"Йинь Чжень\"}]}]}]}, {\"classFeature\": \"Форма\", \"name\": \"Почки и листья\", \"children\": [{\"classFeature\": \"Ароматизация\", \"name\": \"Рассыпной\", \"children\": [{\"titles\": [\"ex1\", \"ex2\"], \"name\": \"Традиционный жасминовый\", \"children\": [{\"props\": {\"name\": \"Мао Фэн Люй Ча\", \"price\": 500, \"weight\": 50, \"leafSize\": 2, \"arom\": 1, \"ferment\": \"green\", \"leafForm\": \"loose\"}, \"name\": \"Мао Фэн Люй Ча\"}, {\"props\": {\"name\": \"Лун Цзин из деревни Лонг Ву\", \"price\": 400, \"weight\": 30, \"leafSize\": 1, \"arom\": 1, \"ferment\": \"green\", \"leafForm\": \"loose\"}, \"name\": \"Лун Цзин из деревни Лонг Ву\"}]}, {\"titles\": [\"ex1\", \"ex2\"], \"name\": \"Сухие листья жасмина\", \"children\": [{\"props\": {\"name\": \"Жасмин\", \"price\": 700, \"weight\": 100, \"leafSize\": 1, \"arom\": 1, \"ferment\": \"green\", \"leafForm\": \"loose\"}, \"name\": \"Жасмин\"}, {\"props\": {\"name\": \"Моли Хуа Хун Ча «Жасминовый чай»\", \"price\": 600, \"weight\": 120, \"leafSize\": 1, \"arom\": 1, \"ferment\": \"green\", \"leafForm\": \"loose\"}, \"name\": \"Моли Хуа Хун Ча «Жасминовый чай»\"}]}, {\"titles\": [\"ex1\", \"ex2\"], \"name\": \"Без ароматизации\", \"children\": [{\"props\": {\"name\": \"Лун Цзин «Колодец Дракона» с озера Сиху\", \"price\": 1450, \"weight\": 50, \"leafSize\": 2, \"arom\": 0, \"ferment\": \"green\", \"leafForm\": \"loose\"}, \"name\": \"Лун Цзин «Колодец Дракона» с озера Сиху\"}, {\"props\": {\"name\": \"Зелёный чай с горы Лаошань\", \"price\": 750, \"weight\": 50, \"leafSize\": 1, \"arom\": 0, \"ferment\": \"green\", \"leafForm\": \"loose\"}, \"name\": \"Зелёный чай с горы Лаошань\"}]}]}, {\"classFeature\": \"Ароматизация\", \"name\": \"Связанный\", \"children\": [{\"titles\": [\"ex1\", \"ex2\"], \"name\": \"Традиционный жасминовый\", \"children\": [{\"props\": {\"name\": \"Би Ло Чунь\", \"price\": 250, \"weight\": 50, \"leafSize\": 2, \"arom\": 1, \"ferment\": \"green\", \"leafForm\": \"twisted\"}, \"name\": \"Би Ло Чунь\"}, {\"props\": {\"name\": \"Лунцзин Колодец дракона\", \"price\": 250, \"weight\": 50, \"leafSize\": 2, \"arom\": 1, \"ferment\": \"green\", \"leafForm\": \"twisted\"}, \"name\": \"Лунцзин Колодец дракона\"}]}, {\"titles\": [\"ex1\", \"ex2\"], \"name\": \"Сухие листья жасмина\", \"children\": [{\"props\": {\"name\": \"Бай Мао Хоу\", \"price\": 700, \"weight\": 50, \"leafSize\": 2, \"arom\": 1, \"ferment\": \"green\", \"leafForm\": \"twisted\"}, \"name\": \"Бай Мао Хоу\"}, {\"props\": {\"name\": \"Сян Чжень\", \"price\": 1400, \"weight\": 60, \"leafSize\": 2, \"arom\": 1, \"ferment\": \"green\", \"leafForm\": \"twisted\"}, \"name\": \"Сян Чжень\"}]}, {\"titles\": [\"ex1\", \"ex2\"], \"name\": \"Без ароматизации\", \"children\": [{\"props\": {\"name\": \"Шу Сян Люй\", \"price\": 700, \"weight\": 50, \"leafSize\": 2, \"arom\": 0, \"ferment\": \"green\", \"leafForm\": \"twisted\"}, \"name\": \"Шу Сян Люй\"}, {\"props\": {\"name\": \"Тай Пин Хоу Куй\", \"price\": 1400, \"weight\": 100, \"leafSize\": 2, \"arom\": 0, \"ferment\": \"green\", \"leafForm\": \"twisted\"}, \"name\": \"Тай Пин Хоу Куй\"}]}]}, {\"classFeature\": \"Ароматизация\", \"name\": \"Прессованный\", \"children\": [{\"titles\": [\"ex1\", \"ex2\"], \"name\": \"Традиционный жасминовый\", \"children\": [{\"props\": {\"name\": \"Люй Лун Чжу\", \"price\": 1500, \"weight\": 100, \"leafSize\": 2, \"arom\": 1, \"ferment\": \"green\", \"leafForm\": \"pressed\"}, \"name\": \"Люй Лун Чжу\"}, {\"props\": {\"name\": \"Йин Сы\", \"price\": 500, \"weight\": 30, \"leafSize\": 2, \"arom\": 1, \"ferment\": \"green\", \"leafForm\": \"pressed\"}, \"name\": \"Йин Сы\"}]}, {\"titles\": [\"ex1\", \"ex2\"], \"name\": \"Сухие листья жасмина\", \"children\": [{\"props\": {\"name\": \"Шен Мэнку Мао Ча\", \"price\": 1200, \"weight\": 100, \"leafSize\": 2, \"arom\": 1, \"ferment\": \"green\", \"leafForm\": \"pressed\"}, \"name\": \"Шен Мэнку Мао Ча\"}, {\"props\": {\"name\": \"Ганпаудер Порох\", \"price\": 100, \"weight\": 100, \"leafSize\": 1, \"arom\": 1, \"ferment\": \"green\", \"leafForm\": \"pressed\"}, \"name\": \"Ганпаудер Порох\"}]}, {\"titles\": [\"ex1\", \"ex2\"], \"name\": \"Без ароматизации\", \"children\": [{\"props\": {\"name\": \"Завтрак императора\", \"price\": 120, \"weight\": 100, \"leafSize\": 1, \"arom\": 0, \"ferment\": \"green\", \"leafForm\": \"pressed\"}, \"name\": \"Завтрак императора\"}, {\"props\": {\"name\": \"Матча\", \"price\": 1500, \"weight\": 80, \"leafSize\": 1, \"arom\": 0, \"ferment\": \"green\", \"leafForm\": \"pressed\"}, \"name\": \"Матча\"}]}]}]}]}]}\n"
     ]
    }
   ],
   "source": [
    "exporter = JsonExporter(ensure_ascii=False)\n",
    "jsonTea = exporter.export(root)\n",
    "\n",
    "with open(\"tea.json\", \"w\", encoding=\"utf-8\") as outfile:\n",
    "    json.dump(jsonTea, outfile, ensure_ascii=False)\n",
    "    \n",
    "print(jsonTea)"
   ]
  },
  {
   "cell_type": "code",
   "execution_count": null,
   "metadata": {},
   "outputs": [],
   "source": []
  }
 ],
 "metadata": {
  "kernelspec": {
   "display_name": "Python 3",
   "language": "python",
   "name": "python3"
  },
  "language_info": {
   "codemirror_mode": {
    "name": "ipython",
    "version": 3
   },
   "file_extension": ".py",
   "mimetype": "text/x-python",
   "name": "python",
   "nbconvert_exporter": "python",
   "pygments_lexer": "ipython3",
   "version": "3.8.3"
  }
 },
 "nbformat": 4,
 "nbformat_minor": 4
}
