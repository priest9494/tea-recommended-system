{
 "cells": [
  {
   "cell_type": "code",
   "execution_count": 1,
   "metadata": {},
   "outputs": [],
   "source": [
    "import json\n",
    "import pydot\n",
    "\n",
    "from anytree import Node, RenderTree\n",
    "from anytree.exporter import UniqueDotExporter\n",
    "from anytree.exporter import JsonExporter"
   ]
  },
  {
   "cell_type": "code",
   "execution_count": 2,
   "metadata": {},
   "outputs": [],
   "source": [
    "root = Node(name=\"Чай\", classFeature=\"Ферментация\")"
   ]
  },
  {
   "cell_type": "code",
   "execution_count": 3,
   "metadata": {},
   "outputs": [],
   "source": [
    "puerBigLooseTitles = [\"Фэнцин\", \"Мэнку\", \"Мэнхай\"]\n",
    "puerBigPressedTitles = [\"Дали\", \"Тенчун\", \"Линцан\"]\n",
    "puerSmallLooseTitles = [\"Булан\",\"ГуанНань\"]\n",
    "puerSmallPressedTitles = [\"ДаЛи\", \"ГуанСи\", \"НаньЧуань\"]\n",
    "\n",
    "puer = Node(parent=root, name=\"Пуэр\", classFeature=\"Сырье\")\n",
    "puerBig = Node(parent=puer, name=\"Крупный лист\", classFeature=\"Форма\")\n",
    "puerBigLoose = Node(parent=puerBig, name=\"Рассыпной\", titles=puerBigLooseTitles)\n",
    "puerBigPressed = Node(parent=puerBig, name=\"Прессованный\", titles=puerBigPressedTitles)\n",
    "puerSmall = Node(parent=puer, name=\"Мелкий лист\", classFeature=\"Форма\")\n",
    "puerSmallLoose = Node(parent=puerSmall, name=\"Рассыпной\", titles=puerSmallLooseTitles)\n",
    "puerSmallPressed = Node(parent=puerSmall, name=\"Прессованный\", titles=puerSmallPressedTitles)"
   ]
  },
  {
   "cell_type": "code",
   "execution_count": 4,
   "metadata": {},
   "outputs": [],
   "source": [
    "oolongSemiFermentedSphericalTitles = [\"ТеГуань\", \"Алишань\"]\n",
    "oolongSemiFermentedNaturalTitles = [\"Фэн Хуан Дань Цун\", \"БаоДжун\", \"ГуйХуа\"]\n",
    "oolongFermentedSphericalTitles = [\"Да Хун Пао\", \"БайХао\"]\n",
    "oolongFermentedNaturalTitles = [\"Пэнфен\", \"Дун Дин\"]\n",
    "\n",
    "oolong = Node(parent=root, name=\"Улун\", classFeature=\"Сырье\")\n",
    "oolongSemiFermented = Node(parent=oolong, name=\"Полуферментированный\", classFeature=\"Ферментация\")\n",
    "oolongSemiFermentedSpherical = Node(parent=oolongSemiFermented, name=\"Сферическая скрутка\", classFeature=\"Форма листа\", titles=oolongSemiFermentedSphericalTitles)\n",
    "oolongSemiFermentedNatural = Node(parent=oolongSemiFermented, name=\"Естественная скрутка\", classFeature=\"Форма листа\", titles=oolongSemiFermentedNaturalTitles)\n",
    "oolongFermented = Node(parent=oolong, name=\"Ферментированный\", classFeature=\"Ферментация\")\n",
    "oolongFermentedSpherical = Node(parent=oolongFermented, name=\"Сферическая скрутка\", classFeature=\"Форма листа\", titles=oolongFermentedSphericalTitles)\n",
    "oolongFermentedNatural = Node(parent=oolongFermented, name=\"Естественная скрутка\", classFeature=\"Форма листа\", titles=oolongFermentedNaturalTitles)"
   ]
  },
  {
   "cell_type": "code",
   "execution_count": 5,
   "metadata": {},
   "outputs": [],
   "source": [
    "yellowBudTitles = [\"Цзюнь Шань Йнь Чжень\", \"Хоста-Чай\", \"Хо Шань Хуан Я\"]\n",
    "yellowSmallTitles = [\"Мэн Дин Хуан Я\", \"Бэй Ган Мао Цзянь\", \"Хуан Ку Цяо Ча\"]\n",
    "yellowBigTitles = [\"Хуан Гуан Янь\", \"Хуан Цзинь Я\"]\n",
    "\n",
    "yellow = Node(parent=root, name=\"Желтый\", classFeature=\"Сырье\")\n",
    "yellowBud = Node(parent=yellow, name=\"Почковый\", titles=yellowBudTitles)\n",
    "yellowSmall = Node(parent=yellow, name=\"Мелколистный\", titles=yellowSmallTitles)\n",
    "yellowBig = Node(parent=yellow, name=\"Крупнолистный\", titles=yellowBigTitles)"
   ]
  },
  {
   "cell_type": "code",
   "execution_count": 6,
   "metadata": {},
   "outputs": [],
   "source": [
    "whiteBudLooseTitles = ['Бай Хао Йнь Чжэнь', 'Джи Джу Мэй']\n",
    "whiteBudPressedTitles = ['Чжэнхэ', 'Фудин', 'Шоу Мей']\n",
    "whiteLeafLooseTitles = ['Бай Лун Чжу', 'Бай Му Дань']\n",
    "whiteLeafPressedTitles = ['Бай Ча', 'Гу Шу Бай Я']\n",
    "\n",
    "white = Node(parent=root, name=\"Белый\", classFeature=\"Сырье\")\n",
    "whiteBud = Node(parent=white, name=\"Почковый\", classFeature=\"Форма\")\n",
    "whiteBudLoose = Node(parent=whiteBud, name=\"Рассыпной\", titles=whiteBudLooseTitles)\n",
    "whiteBudPressed = Node(parent=whiteBud, name=\"Прессованный\", titles=whiteBudPressedTitles)\n",
    "whiteLeaf = Node(parent=white, name=\"Почки и листья\", classFeature=\"Форма\")\n",
    "whiteLeafLoose = Node(parent=whiteLeaf, name=\"Рассыпной\", titles=whiteLeafLooseTitles)\n",
    "whiteLeafPressed = Node(parent=whiteLeaf, name=\"Прессованный\", titles=whiteLeafPressedTitles)"
   ]
  },
  {
   "cell_type": "code",
   "execution_count": 7,
   "metadata": {},
   "outputs": [],
   "source": [
    "blackLongExtractedTitles = ['Тесс', 'Ява', 'Майский', 'Гринфилд']\n",
    "blackLongTermLeafTitles = ['Дянь Хун', 'Таньян Гунфу']\n",
    "blackLongTermBrokenTitles = ['Фэн Хуан Дань Цун', 'Цзинь Цзюнь Мэй']\n",
    "blackLongTermSeedingTitles = ['Ци хун', 'Чжэнь Шань Сяо Чжун']\n",
    "blackLongPressedBrickTitles = ['Дянь Хун Сун Чжень', 'Уишань Хун Ча']\n",
    "blackLongPressedTabletedTitles = ['Чжанпин Хун Ча', 'Моли Хуа Хун Ча', 'Чженшань Сяочжун']\n",
    "\n",
    "black = Node(parent=root, name=\"Черный\", classFeature=\"Тип обработки\")\n",
    "blackLongTerm = Node(parent=black, name=\"Байховый\", classFeatue=\"Размер чаинок\")\n",
    "blackLongTermLeaf = Node(parent=blackLongTerm, name=\"Листовой\", titles=blackLongTermLeafTitles)\n",
    "blackLongTermBroken = Node(parent=blackLongTerm, name=\"Брокен\", titles=blackLongTermBrokenTitles)\n",
    "blackLongTermSeeding = Node(parent=blackLongTerm, name=\"Высевка\", titles=blackLongTermSeedingTitles)\n",
    "blackLongPressed = Node(parent=black, name=\"Прессованный\", classFeatue=\"Форма\")\n",
    "blackLongPressedBrick = Node(parent=blackLongPressed, name=\"Кирпичный\", titles=blackLongPressedBrickTitles)\n",
    "blackLongPressedTableted = Node(parent=blackLongPressed, name=\"Таблетированный\", titles=blackLongPressedTabletedTitles)\n",
    "blackLongExtracted = Node(parent=black, name=\"Экстрагированный\", titles=blackLongExtractedTitles)"
   ]
  },
  {
   "cell_type": "code",
   "execution_count": 8,
   "metadata": {},
   "outputs": [],
   "source": [
    "green = Node(parent=root, name=\"Зеленый\", classFeature=\"Сырье\")\n",
    "greenBud = Node(parent=green, name=\"Почковый\", classFeature=\"Форма\")\n",
    "greenBudLoose = Node(parent=greenBud, name=\"Рассыпной\", classFeature=\"Ароматизация\")\n",
    "greenBudLooseTraditionalJasmine = Node(parent=greenBudLoose, name=\"Традиционный жасминовый\", titles=[\"ex1\", \"ex2\"])\n",
    "greenBudLooseDryJasmineLeaves = Node(parent=greenBudLoose, name=\"Сухие листья жасмина\", titles=[\"ex1\", \"ex2\"])\n",
    "greenBudLooseNoArom = Node(parent=greenBudLoose, name=\"Без ароматизации\", titles=[\"ex1\", \"ex2\"])\n",
    "greenBudTied = Node(parent=greenBud, name=\"Связанный\", classFeature=\"Ароматизация\")\n",
    "greenBudTiedTraditionalJasmine = Node(parent=greenBudTied, name=\"Традиционный жасминовый\", titles=[\"ex1\", \"ex2\"])\n",
    "greenBudTiedDryJasmineLeaves = Node(parent=greenBudTied, name=\"Сухие листья жасмина\", titles=[\"ex1\", \"ex2\"])\n",
    "greenBudTiedNoArom = Node(parent=greenBudTied, name=\"Без ароматизации\", titles=[\"ex1\", \"ex2\"])\n",
    "greenBudPressed = Node(parent=greenBud, name=\"Прессованный\", classFeature=\"Ароматизация\")\n",
    "greenBudPressedTraditionalJasmine = Node(parent=greenBudPressed, name=\"Традиционный жасминовый\", titles=[\"ex1\", \"ex2\"])\n",
    "greenBudPressedDryJasmineLeaves = Node(parent=greenBudPressed, name=\"Сухие листья жасмина\", titles=[\"ex1\", \"ex2\"])\n",
    "greenBudPressedNoArom = Node(parent=greenBudPressed, name=\"Без ароматизации\", titles=[\"ex1\", \"ex2\"])\n",
    "greenBudLeaves = Node(parent=green, name=\"Почки и листья\", classFeature=\"Форма\")\n",
    "greenBudLeavesLoose = Node(parent=greenBudLeaves, name=\"Рассыпной\", classFeature=\"Ароматизация\")\n",
    "greenBudLeavesLooseTraditionalJasmine = Node(parent=greenBudLeavesLoose, name=\"Традиционный жасминовый\", titles=[\"ex1\", \"ex2\"])\n",
    "greenBudLeavesLooseDryJasmineLeaves = Node(parent=greenBudLeavesLoose, name=\"Сухие листья жасмина\", titles=[\"ex1\", \"ex2\"])\n",
    "greenBudLeavesLooseNoArom = Node(parent=greenBudLeavesLoose, name=\"Без ароматизации\", titles=[\"ex1\", \"ex2\"])\n",
    "greenBudLeavesTied = Node(parent=greenBudLeaves, name=\"Связанный\", classFeature=\"Ароматизация\")\n",
    "greenBudLeavesTiedTraditionalJasmine = Node(parent=greenBudLeavesTied, name=\"Традиционный жасминовый\", titles=[\"ex1\", \"ex2\"])\n",
    "greenBudLeavesTiedDryJasmineLeaves = Node(parent=greenBudLeavesTied, name=\"Сухие листья жасмина\", titles=[\"ex1\", \"ex2\"])\n",
    "greenBudLeavesTiedNoArom = Node(parent=greenBudLeavesTied, name=\"Без ароматизации\", titles=[\"ex1\", \"ex2\"])\n",
    "greenBudLeavesPressed = Node(parent=greenBudLeaves, name=\"Прессованный\", classFeature=\"Ароматизация\")\n",
    "greenBudLeavesPressedTraditionalJasmine = Node(parent=greenBudLeavesPressed, name=\"Традиционный жасминовый\", titles=[\"ex1\", \"ex2\"])\n",
    "greenBudLeavesPressedDryJasmineLeaves = Node(parent=greenBudLeavesPressed, name=\"Сухие листья жасмина\", titles=[\"ex1\", \"ex2\"])\n",
    "greenBudLeavesPressedNoArom = Node(parent=greenBudLeavesPressed, name=\"Без ароматизации\", titles=[\"ex1\", \"ex2\"])"
   ]
  },
  {
   "cell_type": "code",
   "execution_count": 9,
   "metadata": {},
   "outputs": [],
   "source": [
    "def selectTitles(node):\n",
    "    titlesLine = \"\"\n",
    "    \n",
    "    if hasattr(node, \"titles\"):\n",
    "        titlesLine = \":\\n\"\n",
    "        if len(node.titles):\n",
    "            for i in range(len(node.titles) - 1):\n",
    "                titlesLine += node.titles[i] + \", \"\n",
    "            titlesLine += node.titles[len(node.titles) - 1] + \".\"\n",
    "    return 'label=\"{}{}\"'.format(node.name, titlesLine)"
   ]
  },
  {
   "cell_type": "code",
   "execution_count": 10,
   "metadata": {},
   "outputs": [],
   "source": [
    "dot = UniqueDotExporter(root, nodeattrfunc=selectTitles)\n",
    "dot.to_dotfile(\"f.dot\")\n",
    "\n",
    "(graph,) = pydot.graph_from_dot_file(\"f.dot\")\n",
    "graph.write_png(\"f.png\")"
   ]
  },
  {
   "cell_type": "code",
   "execution_count": 11,
   "metadata": {},
   "outputs": [
    {
     "name": "stdout",
     "output_type": "stream",
     "text": [
      "Node('/Чай', classFeature='Ферментация')\n",
      "├── Node('/Чай/Пуэр', classFeature='Сырье')\n",
      "│   ├── Node('/Чай/Пуэр/Крупный лист', classFeature='Форма')\n",
      "│   │   ├── Node('/Чай/Пуэр/Крупный лист/Рассыпной', titles=['Фэнцин', 'Мэнку', 'Мэнхай'])\n",
      "│   │   └── Node('/Чай/Пуэр/Крупный лист/Прессованный', titles=['Дали', 'Тенчун', 'Линцан'])\n",
      "│   └── Node('/Чай/Пуэр/Мелкий лист', classFeature='Форма')\n",
      "│       ├── Node('/Чай/Пуэр/Мелкий лист/Рассыпной', titles=['Булан', 'ГуанНань'])\n",
      "│       └── Node('/Чай/Пуэр/Мелкий лист/Прессованный', titles=['ДаЛи', 'ГуанСи', 'НаньЧуань'])\n",
      "├── Node('/Чай/Улун', classFeature='Сырье')\n",
      "│   ├── Node('/Чай/Улун/Полуферментированный', classFeature='Ферментация')\n",
      "│   │   ├── Node('/Чай/Улун/Полуферментированный/Сферическая скрутка', classFeature='Форма листа', titles=['ТеГуань', 'Алишань'])\n",
      "│   │   └── Node('/Чай/Улун/Полуферментированный/Естественная скрутка', classFeature='Форма листа', titles=['Фэн Хуан Дань Цун', 'БаоДжун', 'ГуйХуа'])\n",
      "│   └── Node('/Чай/Улун/Ферментированный', classFeature='Ферментация')\n",
      "│       ├── Node('/Чай/Улун/Ферментированный/Сферическая скрутка', classFeature='Форма листа', titles=['Да Хун Пао', 'БайХао'])\n",
      "│       └── Node('/Чай/Улун/Ферментированный/Естественная скрутка', classFeature='Форма листа', titles=['Пэнфен', 'Дун Дин'])\n",
      "├── Node('/Чай/Желтый', classFeature='Сырье')\n",
      "│   ├── Node('/Чай/Желтый/Почковый', titles=['Цзюнь Шань Йнь Чжень', 'Хоста-Чай', 'Хо Шань Хуан Я'])\n",
      "│   ├── Node('/Чай/Желтый/Мелколистный', titles=['Мэн Дин Хуан Я', 'Бэй Ган Мао Цзянь', 'Хуан Ку Цяо Ча'])\n",
      "│   └── Node('/Чай/Желтый/Крупнолистный', titles=['Хуан Гуан Янь', 'Хуан Цзинь Я'])\n",
      "├── Node('/Чай/Белый', classFeature='Сырье')\n",
      "│   ├── Node('/Чай/Белый/Почковый', classFeature='Форма')\n",
      "│   │   ├── Node('/Чай/Белый/Почковый/Рассыпной', titles=['Бай Хао Йнь Чжэнь', 'Джи Джу Мэй'])\n",
      "│   │   └── Node('/Чай/Белый/Почковый/Прессованный', titles=['Чжэнхэ', 'Фудин', 'Шоу Мей'])\n",
      "│   └── Node('/Чай/Белый/Почки и листья', classFeature='Форма')\n",
      "│       ├── Node('/Чай/Белый/Почки и листья/Рассыпной', titles=['Бай Лун Чжу', 'Бай Му Дань'])\n",
      "│       └── Node('/Чай/Белый/Почки и листья/Прессованный', titles=['Бай Ча', 'Гу Шу Бай Я'])\n",
      "├── Node('/Чай/Черный', classFeature='Тип обработки')\n",
      "│   ├── Node('/Чай/Черный/Байховый', classFeatue='Размер чаинок')\n",
      "│   │   ├── Node('/Чай/Черный/Байховый/Листовой', titles=['Дянь Хун', 'Таньян Гунфу'])\n",
      "│   │   ├── Node('/Чай/Черный/Байховый/Брокен', titles=['Фэн Хуан Дань Цун', 'Цзинь Цзюнь Мэй'])\n",
      "│   │   └── Node('/Чай/Черный/Байховый/Высевка', titles=['Ци хун', 'Чжэнь Шань Сяо Чжун'])\n",
      "│   ├── Node('/Чай/Черный/Прессованный', classFeatue='Форма')\n",
      "│   │   ├── Node('/Чай/Черный/Прессованный/Кирпичный', titles=['Дянь Хун Сун Чжень', 'Уишань Хун Ча'])\n",
      "│   │   └── Node('/Чай/Черный/Прессованный/Таблетированный', titles=['Чжанпин Хун Ча', 'Моли Хуа Хун Ча', 'Чженшань Сяочжун'])\n",
      "│   └── Node('/Чай/Черный/Экстрагированный', titles=['Тесс', 'Ява', 'Майский', 'Гринфилд'])\n",
      "└── Node('/Чай/Зеленый', classFeature='Сырье')\n",
      "    ├── Node('/Чай/Зеленый/Почковый', classFeature='Форма')\n",
      "    │   ├── Node('/Чай/Зеленый/Почковый/Рассыпной', classFeature='Ароматизация')\n",
      "    │   │   ├── Node('/Чай/Зеленый/Почковый/Рассыпной/Традиционный жасминовый', titles=['ex1', 'ex2'])\n",
      "    │   │   ├── Node('/Чай/Зеленый/Почковый/Рассыпной/Сухие листья жасмина', titles=['ex1', 'ex2'])\n",
      "    │   │   └── Node('/Чай/Зеленый/Почковый/Рассыпной/Без ароматизации', titles=['ex1', 'ex2'])\n",
      "    │   ├── Node('/Чай/Зеленый/Почковый/Связанный', classFeature='Ароматизация')\n",
      "    │   │   ├── Node('/Чай/Зеленый/Почковый/Связанный/Традиционный жасминовый', titles=['ex1', 'ex2'])\n",
      "    │   │   ├── Node('/Чай/Зеленый/Почковый/Связанный/Сухие листья жасмина', titles=['ex1', 'ex2'])\n",
      "    │   │   └── Node('/Чай/Зеленый/Почковый/Связанный/Без ароматизации', titles=['ex1', 'ex2'])\n",
      "    │   └── Node('/Чай/Зеленый/Почковый/Прессованный', classFeature='Ароматизация')\n",
      "    │       ├── Node('/Чай/Зеленый/Почковый/Прессованный/Традиционный жасминовый', titles=['ex1', 'ex2'])\n",
      "    │       ├── Node('/Чай/Зеленый/Почковый/Прессованный/Сухие листья жасмина', titles=['ex1', 'ex2'])\n",
      "    │       └── Node('/Чай/Зеленый/Почковый/Прессованный/Без ароматизации', titles=['ex1', 'ex2'])\n",
      "    └── Node('/Чай/Зеленый/Почки и листья', classFeature='Форма')\n",
      "        ├── Node('/Чай/Зеленый/Почки и листья/Рассыпной', classFeature='Ароматизация')\n",
      "        │   ├── Node('/Чай/Зеленый/Почки и листья/Рассыпной/Традиционный жасминовый', titles=['ex1', 'ex2'])\n",
      "        │   ├── Node('/Чай/Зеленый/Почки и листья/Рассыпной/Сухие листья жасмина', titles=['ex1', 'ex2'])\n",
      "        │   └── Node('/Чай/Зеленый/Почки и листья/Рассыпной/Без ароматизации', titles=['ex1', 'ex2'])\n",
      "        ├── Node('/Чай/Зеленый/Почки и листья/Связанный', classFeature='Ароматизация')\n",
      "        │   ├── Node('/Чай/Зеленый/Почки и листья/Связанный/Традиционный жасминовый', titles=['ex1', 'ex2'])\n",
      "        │   ├── Node('/Чай/Зеленый/Почки и листья/Связанный/Сухие листья жасмина', titles=['ex1', 'ex2'])\n",
      "        │   └── Node('/Чай/Зеленый/Почки и листья/Связанный/Без ароматизации', titles=['ex1', 'ex2'])\n",
      "        └── Node('/Чай/Зеленый/Почки и листья/Прессованный', classFeature='Ароматизация')\n",
      "            ├── Node('/Чай/Зеленый/Почки и листья/Прессованный/Традиционный жасминовый', titles=['ex1', 'ex2'])\n",
      "            ├── Node('/Чай/Зеленый/Почки и листья/Прессованный/Сухие листья жасмина', titles=['ex1', 'ex2'])\n",
      "            └── Node('/Чай/Зеленый/Почки и листья/Прессованный/Без ароматизации', titles=['ex1', 'ex2'])\n"
     ]
    }
   ],
   "source": [
    "print(RenderTree(root))"
   ]
  },
  {
   "cell_type": "code",
   "execution_count": 12,
   "metadata": {},
   "outputs": [
    {
     "name": "stdout",
     "output_type": "stream",
     "text": [
      "\"{\\\"classFeature\\\": \\\"Ферментация\\\", \\\"name\\\": \\\"Чай\\\", \\\"children\\\": [{\\\"classFeature\\\": \\\"Сырье\\\", \\\"name\\\": \\\"Пуэр\\\", \\\"children\\\": [{\\\"classFeature\\\": \\\"Форма\\\", \\\"name\\\": \\\"Крупный лист\\\", \\\"children\\\": [{\\\"titles\\\": [\\\"Фэнцин\\\", \\\"Мэнку\\\", \\\"Мэнхай\\\"], \\\"name\\\": \\\"Рассыпной\\\"}, {\\\"titles\\\": [\\\"Дали\\\", \\\"Тенчун\\\", \\\"Линцан\\\"], \\\"name\\\": \\\"Прессованный\\\"}]}, {\\\"classFeature\\\": \\\"Форма\\\", \\\"name\\\": \\\"Мелкий лист\\\", \\\"children\\\": [{\\\"titles\\\": [\\\"Булан\\\", \\\"ГуанНань\\\"], \\\"name\\\": \\\"Рассыпной\\\"}, {\\\"titles\\\": [\\\"ДаЛи\\\", \\\"ГуанСи\\\", \\\"НаньЧуань\\\"], \\\"name\\\": \\\"Прессованный\\\"}]}]}, {\\\"classFeature\\\": \\\"Сырье\\\", \\\"name\\\": \\\"Улун\\\", \\\"children\\\": [{\\\"classFeature\\\": \\\"Ферментация\\\", \\\"name\\\": \\\"Полуферментированный\\\", \\\"children\\\": [{\\\"classFeature\\\": \\\"Форма листа\\\", \\\"titles\\\": [\\\"ТеГуань\\\", \\\"Алишань\\\"], \\\"name\\\": \\\"Сферическая скрутка\\\"}, {\\\"classFeature\\\": \\\"Форма листа\\\", \\\"titles\\\": [\\\"Фэн Хуан Дань Цун\\\", \\\"БаоДжун\\\", \\\"ГуйХуа\\\"], \\\"name\\\": \\\"Естественная скрутка\\\"}]}, {\\\"classFeature\\\": \\\"Ферментация\\\", \\\"name\\\": \\\"Ферментированный\\\", \\\"children\\\": [{\\\"classFeature\\\": \\\"Форма листа\\\", \\\"titles\\\": [\\\"Да Хун Пао\\\", \\\"БайХао\\\"], \\\"name\\\": \\\"Сферическая скрутка\\\"}, {\\\"classFeature\\\": \\\"Форма листа\\\", \\\"titles\\\": [\\\"Пэнфен\\\", \\\"Дун Дин\\\"], \\\"name\\\": \\\"Естественная скрутка\\\"}]}]}, {\\\"classFeature\\\": \\\"Сырье\\\", \\\"name\\\": \\\"Желтый\\\", \\\"children\\\": [{\\\"titles\\\": [\\\"Цзюнь Шань Йнь Чжень\\\", \\\"Хоста-Чай\\\", \\\"Хо Шань Хуан Я\\\"], \\\"name\\\": \\\"Почковый\\\"}, {\\\"titles\\\": [\\\"Мэн Дин Хуан Я\\\", \\\"Бэй Ган Мао Цзянь\\\", \\\"Хуан Ку Цяо Ча\\\"], \\\"name\\\": \\\"Мелколистный\\\"}, {\\\"titles\\\": [\\\"Хуан Гуан Янь\\\", \\\"Хуан Цзинь Я\\\"], \\\"name\\\": \\\"Крупнолистный\\\"}]}, {\\\"classFeature\\\": \\\"Сырье\\\", \\\"name\\\": \\\"Белый\\\", \\\"children\\\": [{\\\"classFeature\\\": \\\"Форма\\\", \\\"name\\\": \\\"Почковый\\\", \\\"children\\\": [{\\\"titles\\\": [\\\"Бай Хао Йнь Чжэнь\\\", \\\"Джи Джу Мэй\\\"], \\\"name\\\": \\\"Рассыпной\\\"}, {\\\"titles\\\": [\\\"Чжэнхэ\\\", \\\"Фудин\\\", \\\"Шоу Мей\\\"], \\\"name\\\": \\\"Прессованный\\\"}]}, {\\\"classFeature\\\": \\\"Форма\\\", \\\"name\\\": \\\"Почки и листья\\\", \\\"children\\\": [{\\\"titles\\\": [\\\"Бай Лун Чжу\\\", \\\"Бай Му Дань\\\"], \\\"name\\\": \\\"Рассыпной\\\"}, {\\\"titles\\\": [\\\"Бай Ча\\\", \\\"Гу Шу Бай Я\\\"], \\\"name\\\": \\\"Прессованный\\\"}]}]}, {\\\"classFeature\\\": \\\"Тип обработки\\\", \\\"name\\\": \\\"Черный\\\", \\\"children\\\": [{\\\"classFeatue\\\": \\\"Размер чаинок\\\", \\\"name\\\": \\\"Байховый\\\", \\\"children\\\": [{\\\"titles\\\": [\\\"Дянь Хун\\\", \\\"Таньян Гунфу\\\"], \\\"name\\\": \\\"Листовой\\\"}, {\\\"titles\\\": [\\\"Фэн Хуан Дань Цун\\\", \\\"Цзинь Цзюнь Мэй\\\"], \\\"name\\\": \\\"Брокен\\\"}, {\\\"titles\\\": [\\\"Ци хун\\\", \\\"Чжэнь Шань Сяо Чжун\\\"], \\\"name\\\": \\\"Высевка\\\"}]}, {\\\"classFeatue\\\": \\\"Форма\\\", \\\"name\\\": \\\"Прессованный\\\", \\\"children\\\": [{\\\"titles\\\": [\\\"Дянь Хун Сун Чжень\\\", \\\"Уишань Хун Ча\\\"], \\\"name\\\": \\\"Кирпичный\\\"}, {\\\"titles\\\": [\\\"Чжанпин Хун Ча\\\", \\\"Моли Хуа Хун Ча\\\", \\\"Чженшань Сяочжун\\\"], \\\"name\\\": \\\"Таблетированный\\\"}]}, {\\\"titles\\\": [\\\"Тесс\\\", \\\"Ява\\\", \\\"Майский\\\", \\\"Гринфилд\\\"], \\\"name\\\": \\\"Экстрагированный\\\"}]}, {\\\"classFeature\\\": \\\"Сырье\\\", \\\"name\\\": \\\"Зеленый\\\", \\\"children\\\": [{\\\"classFeature\\\": \\\"Форма\\\", \\\"name\\\": \\\"Почковый\\\", \\\"children\\\": [{\\\"classFeature\\\": \\\"Ароматизация\\\", \\\"name\\\": \\\"Рассыпной\\\", \\\"children\\\": [{\\\"titles\\\": [\\\"ex1\\\", \\\"ex2\\\"], \\\"name\\\": \\\"Традиционный жасминовый\\\"}, {\\\"titles\\\": [\\\"ex1\\\", \\\"ex2\\\"], \\\"name\\\": \\\"Сухие листья жасмина\\\"}, {\\\"titles\\\": [\\\"ex1\\\", \\\"ex2\\\"], \\\"name\\\": \\\"Без ароматизации\\\"}]}, {\\\"classFeature\\\": \\\"Ароматизация\\\", \\\"name\\\": \\\"Связанный\\\", \\\"children\\\": [{\\\"titles\\\": [\\\"ex1\\\", \\\"ex2\\\"], \\\"name\\\": \\\"Традиционный жасминовый\\\"}, {\\\"titles\\\": [\\\"ex1\\\", \\\"ex2\\\"], \\\"name\\\": \\\"Сухие листья жасмина\\\"}, {\\\"titles\\\": [\\\"ex1\\\", \\\"ex2\\\"], \\\"name\\\": \\\"Без ароматизации\\\"}]}, {\\\"classFeature\\\": \\\"Ароматизация\\\", \\\"name\\\": \\\"Прессованный\\\", \\\"children\\\": [{\\\"titles\\\": [\\\"ex1\\\", \\\"ex2\\\"], \\\"name\\\": \\\"Традиционный жасминовый\\\"}, {\\\"titles\\\": [\\\"ex1\\\", \\\"ex2\\\"], \\\"name\\\": \\\"Сухие листья жасмина\\\"}, {\\\"titles\\\": [\\\"ex1\\\", \\\"ex2\\\"], \\\"name\\\": \\\"Без ароматизации\\\"}]}]}, {\\\"classFeature\\\": \\\"Форма\\\", \\\"name\\\": \\\"Почки и листья\\\", \\\"children\\\": [{\\\"classFeature\\\": \\\"Ароматизация\\\", \\\"name\\\": \\\"Рассыпной\\\", \\\"children\\\": [{\\\"titles\\\": [\\\"ex1\\\", \\\"ex2\\\"], \\\"name\\\": \\\"Традиционный жасминовый\\\"}, {\\\"titles\\\": [\\\"ex1\\\", \\\"ex2\\\"], \\\"name\\\": \\\"Сухие листья жасмина\\\"}, {\\\"titles\\\": [\\\"ex1\\\", \\\"ex2\\\"], \\\"name\\\": \\\"Без ароматизации\\\"}]}, {\\\"classFeature\\\": \\\"Ароматизация\\\", \\\"name\\\": \\\"Связанный\\\", \\\"children\\\": [{\\\"titles\\\": [\\\"ex1\\\", \\\"ex2\\\"], \\\"name\\\": \\\"Традиционный жасминовый\\\"}, {\\\"titles\\\": [\\\"ex1\\\", \\\"ex2\\\"], \\\"name\\\": \\\"Сухие листья жасмина\\\"}, {\\\"titles\\\": [\\\"ex1\\\", \\\"ex2\\\"], \\\"name\\\": \\\"Без ароматизации\\\"}]}, {\\\"classFeature\\\": \\\"Ароматизация\\\", \\\"name\\\": \\\"Прессованный\\\", \\\"children\\\": [{\\\"titles\\\": [\\\"ex1\\\", \\\"ex2\\\"], \\\"name\\\": \\\"Традиционный жасминовый\\\"}, {\\\"titles\\\": [\\\"ex1\\\", \\\"ex2\\\"], \\\"name\\\": \\\"Сухие листья жасмина\\\"}, {\\\"titles\\\": [\\\"ex1\\\", \\\"ex2\\\"], \\\"name\\\": \\\"Без ароматизации\\\"}]}]}]}]}\"\n"
     ]
    }
   ],
   "source": [
    "exporter = JsonExporter(ensure_ascii=False)\n",
    "\n",
    "teaJson = exporter.export(root)\n",
    "\n",
    "with open(\"tea.json\", \"w\", encoding=\"utf-8\") as outfile:\n",
    "    json.dump(teaJson, outfile, ensure_ascii=False)\n",
    "\n",
    "print(json.dumps(teaJson, ensure_ascii=False))"
   ]
  },
  {
   "cell_type": "code",
   "execution_count": null,
   "metadata": {},
   "outputs": [],
   "source": []
  },
  {
   "cell_type": "code",
   "execution_count": null,
   "metadata": {},
   "outputs": [],
   "source": []
  }
 ],
 "metadata": {
  "kernelspec": {
   "display_name": "Python 3",
   "language": "python",
   "name": "python3"
  },
  "language_info": {
   "codemirror_mode": {
    "name": "ipython",
    "version": 3
   },
   "file_extension": ".py",
   "mimetype": "text/x-python",
   "name": "python",
   "nbconvert_exporter": "python",
   "pygments_lexer": "ipython3",
   "version": "3.8.3"
  }
 },
 "nbformat": 4,
 "nbformat_minor": 4
}
